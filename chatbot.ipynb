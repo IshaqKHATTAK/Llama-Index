{
  "nbformat": 4,
  "nbformat_minor": 0,
  "metadata": {
    "colab": {
      "provenance": [],
      "gpuType": "T4",
      "authorship_tag": "ABX9TyNyaWQB4RMzibXpgEldik5T",
      "include_colab_link": true
    },
    "kernelspec": {
      "name": "python3",
      "display_name": "Python 3"
    },
    "language_info": {
      "name": "python"
    },
    "accelerator": "GPU"
  },
  "cells": [
    {
      "cell_type": "markdown",
      "metadata": {
        "id": "view-in-github",
        "colab_type": "text"
      },
      "source": [
        "<a href=\"https://colab.research.google.com/github/IshaqKHATTAK/Llama-Index/blob/main/chatbot.ipynb\" target=\"_parent\"><img src=\"https://colab.research.google.com/assets/colab-badge.svg\" alt=\"Open In Colab\"/></a>"
      ]
    },
    {
      "cell_type": "code",
      "execution_count": null,
      "metadata": {
        "colab": {
          "base_uri": "https://localhost:8080/"
        },
        "id": "-bPfvNXpEyeC",
        "outputId": "76eb1eec-0ccc-4f19-b6ed-50175add9397"
      },
      "outputs": [
        {
          "output_type": "stream",
          "name": "stdout",
          "text": [
            "fatal: destination path 'context_data' already exists and is not an empty directory.\n"
          ]
        }
      ],
      "source": [
        "#https://kbravh.dev/change-the-model-used-by-llamaindex"
      ]
    },
    {
      "cell_type": "code",
      "source": [
        "#pip show openai"
      ],
      "metadata": {
        "id": "ZECveDfyo9ch"
      },
      "execution_count": null,
      "outputs": []
    },
    {
      "cell_type": "code",
      "source": [
        "#!pip uninstall openai\n",
        "!pip install openai==0.28"
      ],
      "metadata": {
        "colab": {
          "base_uri": "https://localhost:8080/"
        },
        "id": "d96osIaKE2do",
        "outputId": "c0494b5f-632b-4de9-9a47-36f5da664663"
      },
      "execution_count": 1,
      "outputs": [
        {
          "output_type": "stream",
          "name": "stdout",
          "text": [
            "Collecting openai==0.28\n",
            "  Downloading openai-0.28.0-py3-none-any.whl (76 kB)\n",
            "\u001b[2K     \u001b[90m━━━━━━━━━━━━━━━━━━━━━━━━━━━━━━━━━━━━━━━━\u001b[0m \u001b[32m76.5/76.5 kB\u001b[0m \u001b[31m1.8 MB/s\u001b[0m eta \u001b[36m0:00:00\u001b[0m\n",
            "\u001b[?25hRequirement already satisfied: requests>=2.20 in /usr/local/lib/python3.10/dist-packages (from openai==0.28) (2.31.0)\n",
            "Requirement already satisfied: tqdm in /usr/local/lib/python3.10/dist-packages (from openai==0.28) (4.66.2)\n",
            "Requirement already satisfied: aiohttp in /usr/local/lib/python3.10/dist-packages (from openai==0.28) (3.9.3)\n",
            "Requirement already satisfied: charset-normalizer<4,>=2 in /usr/local/lib/python3.10/dist-packages (from requests>=2.20->openai==0.28) (3.3.2)\n",
            "Requirement already satisfied: idna<4,>=2.5 in /usr/local/lib/python3.10/dist-packages (from requests>=2.20->openai==0.28) (3.6)\n",
            "Requirement already satisfied: urllib3<3,>=1.21.1 in /usr/local/lib/python3.10/dist-packages (from requests>=2.20->openai==0.28) (2.0.7)\n",
            "Requirement already satisfied: certifi>=2017.4.17 in /usr/local/lib/python3.10/dist-packages (from requests>=2.20->openai==0.28) (2024.2.2)\n",
            "Requirement already satisfied: aiosignal>=1.1.2 in /usr/local/lib/python3.10/dist-packages (from aiohttp->openai==0.28) (1.3.1)\n",
            "Requirement already satisfied: attrs>=17.3.0 in /usr/local/lib/python3.10/dist-packages (from aiohttp->openai==0.28) (23.2.0)\n",
            "Requirement already satisfied: frozenlist>=1.1.1 in /usr/local/lib/python3.10/dist-packages (from aiohttp->openai==0.28) (1.4.1)\n",
            "Requirement already satisfied: multidict<7.0,>=4.5 in /usr/local/lib/python3.10/dist-packages (from aiohttp->openai==0.28) (6.0.5)\n",
            "Requirement already satisfied: yarl<2.0,>=1.0 in /usr/local/lib/python3.10/dist-packages (from aiohttp->openai==0.28) (1.9.4)\n",
            "Requirement already satisfied: async-timeout<5.0,>=4.0 in /usr/local/lib/python3.10/dist-packages (from aiohttp->openai==0.28) (4.0.3)\n",
            "Installing collected packages: openai\n",
            "Successfully installed openai-0.28.0\n"
          ]
        }
      ]
    },
    {
      "cell_type": "code",
      "source": [
        "!pip install llama-index==0.5.6\n",
        "!pip install langchain==0.0.148"
      ],
      "metadata": {
        "colab": {
          "base_uri": "https://localhost:8080/"
        },
        "id": "S9SEbofGE750",
        "outputId": "78a2faaf-b530-4da6-ce99-51bbcf2f8a41"
      },
      "execution_count": 2,
      "outputs": [
        {
          "output_type": "stream",
          "name": "stdout",
          "text": [
            "Collecting llama-index==0.5.6\n",
            "  Downloading llama_index-0.5.6.tar.gz (165 kB)\n",
            "\u001b[?25l     \u001b[90m━━━━━━━━━━━━━━━━━━━━━━━━━━━━━━━━━━━━━━━━\u001b[0m \u001b[32m0.0/165.0 kB\u001b[0m \u001b[31m?\u001b[0m eta \u001b[36m-:--:--\u001b[0m\r\u001b[2K     \u001b[91m━━━━━━━━━━━━━━━━━━━━━━━━━━━━━\u001b[0m\u001b[91m╸\u001b[0m\u001b[90m━━━━━━━━━━\u001b[0m \u001b[32m122.9/165.0 kB\u001b[0m \u001b[31m3.4 MB/s\u001b[0m eta \u001b[36m0:00:01\u001b[0m\r\u001b[2K     \u001b[90m━━━━━━━━━━━━━━━━━━━━━━━━━━━━━━━━━━━━━━━━\u001b[0m \u001b[32m165.0/165.0 kB\u001b[0m \u001b[31m3.3 MB/s\u001b[0m eta \u001b[36m0:00:00\u001b[0m\n",
            "\u001b[?25h  Preparing metadata (setup.py) ... \u001b[?25l\u001b[?25hdone\n",
            "Collecting dataclasses_json (from llama-index==0.5.6)\n",
            "  Downloading dataclasses_json-0.6.4-py3-none-any.whl (28 kB)\n",
            "Collecting langchain (from llama-index==0.5.6)\n",
            "  Downloading langchain-0.1.14-py3-none-any.whl (812 kB)\n",
            "\u001b[2K     \u001b[90m━━━━━━━━━━━━━━━━━━━━━━━━━━━━━━━━━━━━━━━━\u001b[0m \u001b[32m812.8/812.8 kB\u001b[0m \u001b[31m8.8 MB/s\u001b[0m eta \u001b[36m0:00:00\u001b[0m\n",
            "\u001b[?25hRequirement already satisfied: numpy in /usr/local/lib/python3.10/dist-packages (from llama-index==0.5.6) (1.25.2)\n",
            "Requirement already satisfied: tenacity<9.0.0,>=8.2.0 in /usr/local/lib/python3.10/dist-packages (from llama-index==0.5.6) (8.2.3)\n",
            "Requirement already satisfied: openai>=0.26.4 in /usr/local/lib/python3.10/dist-packages (from llama-index==0.5.6) (0.28.0)\n",
            "Requirement already satisfied: pandas in /usr/local/lib/python3.10/dist-packages (from llama-index==0.5.6) (2.0.3)\n",
            "Collecting tiktoken (from llama-index==0.5.6)\n",
            "  Downloading tiktoken-0.6.0-cp310-cp310-manylinux_2_17_x86_64.manylinux2014_x86_64.whl (1.8 MB)\n",
            "\u001b[2K     \u001b[90m━━━━━━━━━━━━━━━━━━━━━━━━━━━━━━━━━━━━━━━━\u001b[0m \u001b[32m1.8/1.8 MB\u001b[0m \u001b[31m15.5 MB/s\u001b[0m eta \u001b[36m0:00:00\u001b[0m\n",
            "\u001b[?25hRequirement already satisfied: requests>=2.20 in /usr/local/lib/python3.10/dist-packages (from openai>=0.26.4->llama-index==0.5.6) (2.31.0)\n",
            "Requirement already satisfied: tqdm in /usr/local/lib/python3.10/dist-packages (from openai>=0.26.4->llama-index==0.5.6) (4.66.2)\n",
            "Requirement already satisfied: aiohttp in /usr/local/lib/python3.10/dist-packages (from openai>=0.26.4->llama-index==0.5.6) (3.9.3)\n",
            "Collecting marshmallow<4.0.0,>=3.18.0 (from dataclasses_json->llama-index==0.5.6)\n",
            "  Downloading marshmallow-3.21.1-py3-none-any.whl (49 kB)\n",
            "\u001b[2K     \u001b[90m━━━━━━━━━━━━━━━━━━━━━━━━━━━━━━━━━━━━━━━━\u001b[0m \u001b[32m49.4/49.4 kB\u001b[0m \u001b[31m7.3 MB/s\u001b[0m eta \u001b[36m0:00:00\u001b[0m\n",
            "\u001b[?25hCollecting typing-inspect<1,>=0.4.0 (from dataclasses_json->llama-index==0.5.6)\n",
            "  Downloading typing_inspect-0.9.0-py3-none-any.whl (8.8 kB)\n",
            "Requirement already satisfied: PyYAML>=5.3 in /usr/local/lib/python3.10/dist-packages (from langchain->llama-index==0.5.6) (6.0.1)\n",
            "Requirement already satisfied: SQLAlchemy<3,>=1.4 in /usr/local/lib/python3.10/dist-packages (from langchain->llama-index==0.5.6) (2.0.29)\n",
            "Requirement already satisfied: async-timeout<5.0.0,>=4.0.0 in /usr/local/lib/python3.10/dist-packages (from langchain->llama-index==0.5.6) (4.0.3)\n",
            "Collecting jsonpatch<2.0,>=1.33 (from langchain->llama-index==0.5.6)\n",
            "  Downloading jsonpatch-1.33-py2.py3-none-any.whl (12 kB)\n",
            "Collecting langchain-community<0.1,>=0.0.30 (from langchain->llama-index==0.5.6)\n",
            "  Downloading langchain_community-0.0.31-py3-none-any.whl (1.9 MB)\n",
            "\u001b[2K     \u001b[90m━━━━━━━━━━━━━━━━━━━━━━━━━━━━━━━━━━━━━━━━\u001b[0m \u001b[32m1.9/1.9 MB\u001b[0m \u001b[31m22.1 MB/s\u001b[0m eta \u001b[36m0:00:00\u001b[0m\n",
            "\u001b[?25hCollecting langchain-core<0.2.0,>=0.1.37 (from langchain->llama-index==0.5.6)\n",
            "  Downloading langchain_core-0.1.40-py3-none-any.whl (276 kB)\n",
            "\u001b[2K     \u001b[90m━━━━━━━━━━━━━━━━━━━━━━━━━━━━━━━━━━━━━━━━\u001b[0m \u001b[32m276.8/276.8 kB\u001b[0m \u001b[31m25.2 MB/s\u001b[0m eta \u001b[36m0:00:00\u001b[0m\n",
            "\u001b[?25hCollecting langchain-text-splitters<0.1,>=0.0.1 (from langchain->llama-index==0.5.6)\n",
            "  Downloading langchain_text_splitters-0.0.1-py3-none-any.whl (21 kB)\n",
            "Collecting langsmith<0.2.0,>=0.1.17 (from langchain->llama-index==0.5.6)\n",
            "  Downloading langsmith-0.1.40-py3-none-any.whl (87 kB)\n",
            "\u001b[2K     \u001b[90m━━━━━━━━━━━━━━━━━━━━━━━━━━━━━━━━━━━━━━━━\u001b[0m \u001b[32m87.5/87.5 kB\u001b[0m \u001b[31m15.1 MB/s\u001b[0m eta \u001b[36m0:00:00\u001b[0m\n",
            "\u001b[?25hRequirement already satisfied: pydantic<3,>=1 in /usr/local/lib/python3.10/dist-packages (from langchain->llama-index==0.5.6) (2.6.4)\n",
            "Requirement already satisfied: python-dateutil>=2.8.2 in /usr/local/lib/python3.10/dist-packages (from pandas->llama-index==0.5.6) (2.8.2)\n",
            "Requirement already satisfied: pytz>=2020.1 in /usr/local/lib/python3.10/dist-packages (from pandas->llama-index==0.5.6) (2023.4)\n",
            "Requirement already satisfied: tzdata>=2022.1 in /usr/local/lib/python3.10/dist-packages (from pandas->llama-index==0.5.6) (2024.1)\n",
            "Requirement already satisfied: regex>=2022.1.18 in /usr/local/lib/python3.10/dist-packages (from tiktoken->llama-index==0.5.6) (2023.12.25)\n",
            "Requirement already satisfied: aiosignal>=1.1.2 in /usr/local/lib/python3.10/dist-packages (from aiohttp->openai>=0.26.4->llama-index==0.5.6) (1.3.1)\n",
            "Requirement already satisfied: attrs>=17.3.0 in /usr/local/lib/python3.10/dist-packages (from aiohttp->openai>=0.26.4->llama-index==0.5.6) (23.2.0)\n",
            "Requirement already satisfied: frozenlist>=1.1.1 in /usr/local/lib/python3.10/dist-packages (from aiohttp->openai>=0.26.4->llama-index==0.5.6) (1.4.1)\n",
            "Requirement already satisfied: multidict<7.0,>=4.5 in /usr/local/lib/python3.10/dist-packages (from aiohttp->openai>=0.26.4->llama-index==0.5.6) (6.0.5)\n",
            "Requirement already satisfied: yarl<2.0,>=1.0 in /usr/local/lib/python3.10/dist-packages (from aiohttp->openai>=0.26.4->llama-index==0.5.6) (1.9.4)\n",
            "Collecting jsonpointer>=1.9 (from jsonpatch<2.0,>=1.33->langchain->llama-index==0.5.6)\n",
            "  Downloading jsonpointer-2.4-py2.py3-none-any.whl (7.8 kB)\n",
            "Collecting packaging<24.0,>=23.2 (from langchain-core<0.2.0,>=0.1.37->langchain->llama-index==0.5.6)\n",
            "  Downloading packaging-23.2-py3-none-any.whl (53 kB)\n",
            "\u001b[2K     \u001b[90m━━━━━━━━━━━━━━━━━━━━━━━━━━━━━━━━━━━━━━━━\u001b[0m \u001b[32m53.0/53.0 kB\u001b[0m \u001b[31m8.1 MB/s\u001b[0m eta \u001b[36m0:00:00\u001b[0m\n",
            "\u001b[?25hCollecting orjson<4.0.0,>=3.9.14 (from langsmith<0.2.0,>=0.1.17->langchain->llama-index==0.5.6)\n",
            "  Downloading orjson-3.10.0-cp310-cp310-manylinux_2_17_x86_64.manylinux2014_x86_64.whl (144 kB)\n",
            "\u001b[2K     \u001b[90m━━━━━━━━━━━━━━━━━━━━━━━━━━━━━━━━━━━━━━━━\u001b[0m \u001b[32m144.8/144.8 kB\u001b[0m \u001b[31m16.6 MB/s\u001b[0m eta \u001b[36m0:00:00\u001b[0m\n",
            "\u001b[?25hRequirement already satisfied: annotated-types>=0.4.0 in /usr/local/lib/python3.10/dist-packages (from pydantic<3,>=1->langchain->llama-index==0.5.6) (0.6.0)\n",
            "Requirement already satisfied: pydantic-core==2.16.3 in /usr/local/lib/python3.10/dist-packages (from pydantic<3,>=1->langchain->llama-index==0.5.6) (2.16.3)\n",
            "Requirement already satisfied: typing-extensions>=4.6.1 in /usr/local/lib/python3.10/dist-packages (from pydantic<3,>=1->langchain->llama-index==0.5.6) (4.10.0)\n",
            "Requirement already satisfied: six>=1.5 in /usr/local/lib/python3.10/dist-packages (from python-dateutil>=2.8.2->pandas->llama-index==0.5.6) (1.16.0)\n",
            "Requirement already satisfied: charset-normalizer<4,>=2 in /usr/local/lib/python3.10/dist-packages (from requests>=2.20->openai>=0.26.4->llama-index==0.5.6) (3.3.2)\n",
            "Requirement already satisfied: idna<4,>=2.5 in /usr/local/lib/python3.10/dist-packages (from requests>=2.20->openai>=0.26.4->llama-index==0.5.6) (3.6)\n",
            "Requirement already satisfied: urllib3<3,>=1.21.1 in /usr/local/lib/python3.10/dist-packages (from requests>=2.20->openai>=0.26.4->llama-index==0.5.6) (2.0.7)\n",
            "Requirement already satisfied: certifi>=2017.4.17 in /usr/local/lib/python3.10/dist-packages (from requests>=2.20->openai>=0.26.4->llama-index==0.5.6) (2024.2.2)\n",
            "Requirement already satisfied: greenlet!=0.4.17 in /usr/local/lib/python3.10/dist-packages (from SQLAlchemy<3,>=1.4->langchain->llama-index==0.5.6) (3.0.3)\n",
            "Collecting mypy-extensions>=0.3.0 (from typing-inspect<1,>=0.4.0->dataclasses_json->llama-index==0.5.6)\n",
            "  Downloading mypy_extensions-1.0.0-py3-none-any.whl (4.7 kB)\n",
            "Building wheels for collected packages: llama-index\n",
            "  Building wheel for llama-index (setup.py) ... \u001b[?25l\u001b[?25hdone\n",
            "  Created wheel for llama-index: filename=llama_index-0.5.6-py3-none-any.whl size=248133 sha256=4fa17c2617b0e052643ebacb89e6b33f943c360cc3cc6104cfbc46081818db1a\n",
            "  Stored in directory: /root/.cache/pip/wheels/48/9f/0a/a5d7181a1819086f8288d1becdad81de07fc874b55075dde19\n",
            "Successfully built llama-index\n",
            "Installing collected packages: packaging, orjson, mypy-extensions, jsonpointer, typing-inspect, tiktoken, marshmallow, jsonpatch, langsmith, dataclasses_json, langchain-core, langchain-text-splitters, langchain-community, langchain, llama-index\n",
            "  Attempting uninstall: packaging\n",
            "    Found existing installation: packaging 24.0\n",
            "    Uninstalling packaging-24.0:\n",
            "      Successfully uninstalled packaging-24.0\n",
            "Successfully installed dataclasses_json-0.6.4 jsonpatch-1.33 jsonpointer-2.4 langchain-0.1.14 langchain-community-0.0.31 langchain-core-0.1.40 langchain-text-splitters-0.0.1 langsmith-0.1.40 llama-index-0.5.6 marshmallow-3.21.1 mypy-extensions-1.0.0 orjson-3.10.0 packaging-23.2 tiktoken-0.6.0 typing-inspect-0.9.0\n",
            "Collecting langchain==0.0.148\n",
            "  Downloading langchain-0.0.148-py3-none-any.whl (636 kB)\n",
            "\u001b[2K     \u001b[90m━━━━━━━━━━━━━━━━━━━━━━━━━━━━━━━━━━━━━━━━\u001b[0m \u001b[32m636.7/636.7 kB\u001b[0m \u001b[31m9.4 MB/s\u001b[0m eta \u001b[36m0:00:00\u001b[0m\n",
            "\u001b[?25hRequirement already satisfied: PyYAML>=5.4.1 in /usr/local/lib/python3.10/dist-packages (from langchain==0.0.148) (6.0.1)\n",
            "Collecting SQLAlchemy<2,>=1 (from langchain==0.0.148)\n",
            "  Downloading SQLAlchemy-1.4.52-cp310-cp310-manylinux_2_5_x86_64.manylinux1_x86_64.manylinux_2_17_x86_64.manylinux2014_x86_64.whl (1.6 MB)\n",
            "\u001b[2K     \u001b[90m━━━━━━━━━━━━━━━━━━━━━━━━━━━━━━━━━━━━━━━━\u001b[0m \u001b[32m1.6/1.6 MB\u001b[0m \u001b[31m10.6 MB/s\u001b[0m eta \u001b[36m0:00:00\u001b[0m\n",
            "\u001b[?25hRequirement already satisfied: aiohttp<4.0.0,>=3.8.3 in /usr/local/lib/python3.10/dist-packages (from langchain==0.0.148) (3.9.3)\n",
            "Requirement already satisfied: async-timeout<5.0.0,>=4.0.0 in /usr/local/lib/python3.10/dist-packages (from langchain==0.0.148) (4.0.3)\n",
            "Collecting dataclasses-json<0.6.0,>=0.5.7 (from langchain==0.0.148)\n",
            "  Downloading dataclasses_json-0.5.14-py3-none-any.whl (26 kB)\n",
            "Requirement already satisfied: numexpr<3.0.0,>=2.8.4 in /usr/local/lib/python3.10/dist-packages (from langchain==0.0.148) (2.9.0)\n",
            "Requirement already satisfied: numpy<2,>=1 in /usr/local/lib/python3.10/dist-packages (from langchain==0.0.148) (1.25.2)\n",
            "Collecting openapi-schema-pydantic<2.0,>=1.2 (from langchain==0.0.148)\n",
            "  Downloading openapi_schema_pydantic-1.2.4-py3-none-any.whl (90 kB)\n",
            "\u001b[2K     \u001b[90m━━━━━━━━━━━━━━━━━━━━━━━━━━━━━━━━━━━━━━━━\u001b[0m \u001b[32m90.0/90.0 kB\u001b[0m \u001b[31m16.3 MB/s\u001b[0m eta \u001b[36m0:00:00\u001b[0m\n",
            "\u001b[?25hCollecting pydantic<2,>=1 (from langchain==0.0.148)\n",
            "  Downloading pydantic-1.10.15-cp310-cp310-manylinux_2_17_x86_64.manylinux2014_x86_64.whl (3.1 MB)\n",
            "\u001b[2K     \u001b[90m━━━━━━━━━━━━━━━━━━━━━━━━━━━━━━━━━━━━━━━━\u001b[0m \u001b[32m3.1/3.1 MB\u001b[0m \u001b[31m29.5 MB/s\u001b[0m eta \u001b[36m0:00:00\u001b[0m\n",
            "\u001b[?25hRequirement already satisfied: requests<3,>=2 in /usr/local/lib/python3.10/dist-packages (from langchain==0.0.148) (2.31.0)\n",
            "Requirement already satisfied: tenacity<9.0.0,>=8.1.0 in /usr/local/lib/python3.10/dist-packages (from langchain==0.0.148) (8.2.3)\n",
            "Requirement already satisfied: tqdm>=4.48.0 in /usr/local/lib/python3.10/dist-packages (from langchain==0.0.148) (4.66.2)\n",
            "Requirement already satisfied: aiosignal>=1.1.2 in /usr/local/lib/python3.10/dist-packages (from aiohttp<4.0.0,>=3.8.3->langchain==0.0.148) (1.3.1)\n",
            "Requirement already satisfied: attrs>=17.3.0 in /usr/local/lib/python3.10/dist-packages (from aiohttp<4.0.0,>=3.8.3->langchain==0.0.148) (23.2.0)\n",
            "Requirement already satisfied: frozenlist>=1.1.1 in /usr/local/lib/python3.10/dist-packages (from aiohttp<4.0.0,>=3.8.3->langchain==0.0.148) (1.4.1)\n",
            "Requirement already satisfied: multidict<7.0,>=4.5 in /usr/local/lib/python3.10/dist-packages (from aiohttp<4.0.0,>=3.8.3->langchain==0.0.148) (6.0.5)\n",
            "Requirement already satisfied: yarl<2.0,>=1.0 in /usr/local/lib/python3.10/dist-packages (from aiohttp<4.0.0,>=3.8.3->langchain==0.0.148) (1.9.4)\n",
            "Requirement already satisfied: marshmallow<4.0.0,>=3.18.0 in /usr/local/lib/python3.10/dist-packages (from dataclasses-json<0.6.0,>=0.5.7->langchain==0.0.148) (3.21.1)\n",
            "Requirement already satisfied: typing-inspect<1,>=0.4.0 in /usr/local/lib/python3.10/dist-packages (from dataclasses-json<0.6.0,>=0.5.7->langchain==0.0.148) (0.9.0)\n",
            "Requirement already satisfied: typing-extensions>=4.2.0 in /usr/local/lib/python3.10/dist-packages (from pydantic<2,>=1->langchain==0.0.148) (4.10.0)\n",
            "Requirement already satisfied: charset-normalizer<4,>=2 in /usr/local/lib/python3.10/dist-packages (from requests<3,>=2->langchain==0.0.148) (3.3.2)\n",
            "Requirement already satisfied: idna<4,>=2.5 in /usr/local/lib/python3.10/dist-packages (from requests<3,>=2->langchain==0.0.148) (3.6)\n",
            "Requirement already satisfied: urllib3<3,>=1.21.1 in /usr/local/lib/python3.10/dist-packages (from requests<3,>=2->langchain==0.0.148) (2.0.7)\n",
            "Requirement already satisfied: certifi>=2017.4.17 in /usr/local/lib/python3.10/dist-packages (from requests<3,>=2->langchain==0.0.148) (2024.2.2)\n",
            "Requirement already satisfied: greenlet!=0.4.17 in /usr/local/lib/python3.10/dist-packages (from SQLAlchemy<2,>=1->langchain==0.0.148) (3.0.3)\n",
            "Requirement already satisfied: packaging>=17.0 in /usr/local/lib/python3.10/dist-packages (from marshmallow<4.0.0,>=3.18.0->dataclasses-json<0.6.0,>=0.5.7->langchain==0.0.148) (23.2)\n",
            "Requirement already satisfied: mypy-extensions>=0.3.0 in /usr/local/lib/python3.10/dist-packages (from typing-inspect<1,>=0.4.0->dataclasses-json<0.6.0,>=0.5.7->langchain==0.0.148) (1.0.0)\n",
            "Installing collected packages: SQLAlchemy, pydantic, openapi-schema-pydantic, dataclasses-json, langchain\n",
            "  Attempting uninstall: SQLAlchemy\n",
            "    Found existing installation: SQLAlchemy 2.0.29\n",
            "    Uninstalling SQLAlchemy-2.0.29:\n",
            "      Successfully uninstalled SQLAlchemy-2.0.29\n",
            "  Attempting uninstall: pydantic\n",
            "    Found existing installation: pydantic 2.6.4\n",
            "    Uninstalling pydantic-2.6.4:\n",
            "      Successfully uninstalled pydantic-2.6.4\n",
            "  Attempting uninstall: dataclasses-json\n",
            "    Found existing installation: dataclasses-json 0.6.4\n",
            "    Uninstalling dataclasses-json-0.6.4:\n",
            "      Successfully uninstalled dataclasses-json-0.6.4\n",
            "  Attempting uninstall: langchain\n",
            "    Found existing installation: langchain 0.1.14\n",
            "    Uninstalling langchain-0.1.14:\n",
            "      Successfully uninstalled langchain-0.1.14\n",
            "\u001b[31mERROR: pip's dependency resolver does not currently take into account all the packages that are installed. This behaviour is the source of the following dependency conflicts.\n",
            "ipython-sql 0.5.0 requires sqlalchemy>=2.0, but you have sqlalchemy 1.4.52 which is incompatible.\u001b[0m\u001b[31m\n",
            "\u001b[0mSuccessfully installed SQLAlchemy-1.4.52 dataclasses-json-0.5.14 langchain-0.0.148 openapi-schema-pydantic-1.2.4 pydantic-1.10.15\n"
          ]
        }
      ]
    },
    {
      "cell_type": "markdown",
      "source": [
        "### QA embeddins"
      ],
      "metadata": {
        "id": "3HqsgTvdW9Zd"
      }
    },
    {
      "cell_type": "code",
      "source": [
        "import os\n",
        "os.environ[\"OPENAI_API_KEY\"] = input(\"Enter key\")"
      ],
      "metadata": {
        "id": "eBRm0oDEE9X-"
      },
      "execution_count": 13,
      "outputs": []
    },
    {
      "cell_type": "code",
      "source": [
        "\n",
        "from llama_index import GPTVectorStoreIndex, download_loader, LLMPredictor, ServiceContext\n",
        "from langchain.chat_models import ChatOpenAI\n",
        "from llama_index import SimpleDirectoryReader,GPTSimpleVectorIndex"
      ],
      "metadata": {
        "id": "r-EsX9mMFQyi"
      },
      "execution_count": 4,
      "outputs": []
    },
    {
      "cell_type": "code",
      "source": [
        "llm_predictor = LLMPredictor(llm=ChatOpenAI(temperature=0, model_name=\"gpt-3.5-turbo\"))\n",
        "service_context = ServiceContext.from_defaults(llm_predictor=llm_predictor)"
      ],
      "metadata": {
        "colab": {
          "base_uri": "https://localhost:8080/"
        },
        "id": "JGSaQihPFaQF",
        "outputId": "6b761550-5f99-4033-afcb-72801463555d"
      },
      "execution_count": null,
      "outputs": [
        {
          "output_type": "stream",
          "name": "stderr",
          "text": [
            "WARNING:llama_index.llm_predictor.base:Unknown max input size for gpt-3.5-turbo, using defaults.\n"
          ]
        }
      ]
    },
    {
      "cell_type": "code",
      "source": [
        "documents = SimpleDirectoryReader(\"/content/data\").load_data()\n",
        "\n",
        "index = GPTVectorStoreIndex.from_documents(documents, service_context=service_context)"
      ],
      "metadata": {
        "id": "kgmb7yTyFcoy"
      },
      "execution_count": null,
      "outputs": []
    },
    {
      "cell_type": "code",
      "source": [
        "import pickle\n",
        "\n",
        "# Save to disk\n",
        "with open('index.pickle', 'wb') as f:\n",
        "    pickle.dump(index, f)\n",
        "\n",
        "# Load from disk\n",
        "with open('index.pickle', 'rb') as f:\n",
        "    index2 = pickle.load(f)"
      ],
      "metadata": {
        "id": "db3akjLoGId3"
      },
      "execution_count": null,
      "outputs": []
    },
    {
      "cell_type": "code",
      "source": [
        "response = index2.query('who are you')\n",
        "print(response)"
      ],
      "metadata": {
        "colab": {
          "base_uri": "https://localhost:8080/"
        },
        "id": "8E26_5TaFj59",
        "outputId": "b5d5f371-c2f7-4b0b-cf73-14fff3782e46"
      },
      "execution_count": null,
      "outputs": [
        {
          "output_type": "stream",
          "name": "stdout",
          "text": [
            "I am an AI restaurant assistant here to help you with your dining experience.\n"
          ]
        }
      ]
    },
    {
      "cell_type": "code",
      "source": [
        "response = index2.query('i want to place an order tell me the procedure?')\n",
        "print(response)"
      ],
      "metadata": {
        "colab": {
          "base_uri": "https://localhost:8080/"
        },
        "id": "r9DBHpmyXWMr",
        "outputId": "b33f58e9-71cd-49dd-f353-dca109b6ce74"
      },
      "execution_count": null,
      "outputs": [
        {
          "output_type": "stream",
          "name": "stdout",
          "text": [
            "To place an order, please follow these steps:\n",
            "1. Use the following format to order food:\n",
            "*Order*: \n",
            "- item1: quantity\n",
            "- item2: quantity\n",
            "- item3: quantity\n",
            "2. Choose the items you would like to order from the available food options and strictly follow the format provided.\n"
          ]
        }
      ]
    },
    {
      "cell_type": "code",
      "source": [
        "response = index2.query('feeling hungry?')\n",
        "print(response)"
      ],
      "metadata": {
        "colab": {
          "base_uri": "https://localhost:8080/"
        },
        "id": "ExK4CrkasCVt",
        "outputId": "541ee1a7-ef6f-4d7d-b0a3-731cfe73e40e"
      },
      "execution_count": null,
      "outputs": [
        {
          "output_type": "stream",
          "name": "stdout",
          "text": [
            "If you're feeling hungry, I recommend trying our delicious Chicken Karahi with fragrant Basmati rice. It's a satisfying and flavorful meal that will surely satisfy your hunger!\n"
          ]
        }
      ]
    },
    {
      "cell_type": "markdown",
      "source": [
        "### menue"
      ],
      "metadata": {
        "id": "ghWS_oH66LDZ"
      }
    },
    {
      "cell_type": "code",
      "source": [
        "llm_predictor = LLMPredictor(llm=ChatOpenAI(temperature=0, model_name=\"gpt-3.5-turbo\"))\n",
        "service_context = ServiceContext.from_defaults(llm_predictor=llm_predictor)\n",
        "\n",
        "documents = SimpleDirectoryReader(\"/content/data2\").load_data()\n",
        "\n",
        "index = GPTVectorStoreIndex.from_documents(documents, service_context=service_context)"
      ],
      "metadata": {
        "colab": {
          "base_uri": "https://localhost:8080/"
        },
        "id": "VAnGpIJg6KWT",
        "outputId": "11fe69bd-5532-41d7-b912-681b556fbc28"
      },
      "execution_count": null,
      "outputs": [
        {
          "output_type": "stream",
          "name": "stderr",
          "text": [
            "WARNING:llama_index.llm_predictor.base:Unknown max input size for gpt-3.5-turbo, using defaults.\n"
          ]
        }
      ]
    },
    {
      "cell_type": "code",
      "source": [
        "response = index.query('What is in menue today?')\n",
        "response.response"
      ],
      "metadata": {
        "colab": {
          "base_uri": "https://localhost:8080/",
          "height": 54
        },
        "id": "HcoAGamOVEGA",
        "outputId": "ecee2601-ec1a-4d02-99eb-b477a9993359"
      },
      "execution_count": 23,
      "outputs": [
        {
          "output_type": "execute_result",
          "data": {
            "text/plain": [
              "\"Today's menu includes:\\n- Breakfast: Pancakes, Eggs, Yogurt with Granola\\n- Lunch: Salad, Sandwich, Pasta\\n- Dinner: Roast Chicken, Vegetable Stir-Fry, Shrimp Scampi\""
            ],
            "application/vnd.google.colaboratory.intrinsic+json": {
              "type": "string"
            }
          },
          "metadata": {},
          "execution_count": 23
        }
      ]
    },
    {
      "cell_type": "code",
      "source": [
        "response = index.query('What is menue for tuesday?')\n",
        "print(response.response)"
      ],
      "metadata": {
        "colab": {
          "base_uri": "https://localhost:8080/"
        },
        "id": "S5RWx7wYWDfj",
        "outputId": "c0d5e9ca-c491-426b-926b-afd031916cb3"
      },
      "execution_count": 25,
      "outputs": [
        {
          "output_type": "stream",
          "name": "stdout",
          "text": [
            "The menu for Tuesday is:\n",
            "# Breakfast (Time: 07:00 - 10:30)\n",
            "- French Toast (Description: Thick slices of bread soaked in a rich egg mixture and grilled to perfection)\n",
            "- Bacon and Eggs (Description: Crispy bacon served with sunny-side-up eggs)\n",
            "- Fruit Smoothie (Description: Refreshing smoothie made with a blend of seasonal fruits and yogurt)\n",
            "# Lunch (Time: 11:00 - 16:00)\n",
            "- Chicken Caesar Salad (Description: Crisp romaine lettuce topped with grilled chicken, parmesan cheese, and Caesar dressing)\n",
            "- Grilled Cheese Sandwich (Description: Melted cheddar cheese between slices of buttered bread, grilled until golden brown)\n",
            "- Beef Stroganoff (Description: Tender beef strips in a creamy mushroom sauce served over egg noodles)\n",
            "# Dinner (Time: 17:00 - 21:00)\n",
            "- Grilled Salmon (Description: Fresh salmon fillet seasoned and grilled to perfection)\n",
            "- Ratatouille (Description: A hearty stew of eggplant, zucchini, bell peppers, and tomatoes)\n",
            "- Beef Tacos (Description: Soft corn tortillas filled with seasoned ground beef, lettuce, cheese, and salsa)\n"
          ]
        }
      ]
    },
    {
      "cell_type": "code",
      "source": [
        "response = index.query('What is in dinner for tuesday?')\n",
        "print(response.response)"
      ],
      "metadata": {
        "colab": {
          "base_uri": "https://localhost:8080/"
        },
        "id": "Q0Vn-Iz2Wnw_",
        "outputId": "83bac03f-e51a-43cf-c820-74f938bb23d6"
      },
      "execution_count": 26,
      "outputs": [
        {
          "output_type": "stream",
          "name": "stdout",
          "text": [
            "In dinner for Tuesday, the menu includes Grilled Salmon, Ratatouille, and Beef Tacos.\n"
          ]
        }
      ]
    },
    {
      "cell_type": "code",
      "source": [
        "import pickle\n",
        "\n",
        "# Save to disk\n",
        "with open('menue.pickle', 'wb') as f:\n",
        "    pickle.dump(index, f)"
      ],
      "metadata": {
        "id": "laiMFYBS_3fH"
      },
      "execution_count": null,
      "outputs": []
    },
    {
      "cell_type": "markdown",
      "source": [
        "### classification"
      ],
      "metadata": {
        "id": "1vSubOfnbGZu"
      }
    },
    {
      "cell_type": "code",
      "source": [
        "import pickle\n",
        "\n",
        "with open('index.pickle', 'rb') as f:\n",
        "    index2 = pickle.load(f)\n",
        "\n",
        "with open('menue.pickle', 'rb') as f:\n",
        "    index = pickle.load(f)"
      ],
      "metadata": {
        "id": "Cv-_L4av_mQR"
      },
      "execution_count": 5,
      "outputs": []
    },
    {
      "cell_type": "code",
      "source": [
        "rep = index2.query('feeling Thirsty')"
      ],
      "metadata": {
        "id": "5jzCYdFMCIdx"
      },
      "execution_count": 8,
      "outputs": []
    },
    {
      "cell_type": "code",
      "source": [
        "rep.response"
      ],
      "metadata": {
        "id": "UwaFjbAfCVX1",
        "colab": {
          "base_uri": "https://localhost:8080/",
          "height": 54
        },
        "outputId": "fe072c23-6d48-4c6b-ee4d-74880c56055a"
      },
      "execution_count": 9,
      "outputs": [
        {
          "output_type": "execute_result",
          "data": {
            "text/plain": [
              "\"If you're feeling thirsty, I suggest trying our refreshing Mango Lassi or our signature Mint Lemonade. They're perfect for quenching your thirst and cooling off on a hot day.\""
            ],
            "application/vnd.google.colaboratory.intrinsic+json": {
              "type": "string"
            }
          },
          "metadata": {},
          "execution_count": 9
        }
      ]
    },
    {
      "cell_type": "code",
      "source": [
        "import os\n",
        "import openai\n",
        "openai.api_key = os.environ[\"OPENAI_API_KEY\"]"
      ],
      "metadata": {
        "id": "SBmB8tFvbBRF"
      },
      "execution_count": 10,
      "outputs": []
    },
    {
      "cell_type": "code",
      "source": [
        "classification = [\n",
        "    {\"role\": \"system\", \"content\": \"You are a language detector. Is the input text is in 'English' or 'Roman Urdu'.\"},\n",
        "    {'role': 'user', 'content': 'input text'}\n",
        "]\n",
        "\n",
        "intent_detector = [\n",
        "    {\"role\": \"system\", \"content\": \"You are a intent detector. Is the input text is related to 'menue, time' 'asking about lunch/dinner/breakfast meals' if so return 'Yes' else 'No'.\"},\n",
        "    {'role': 'user', 'content': 'input text'}\n",
        "]\n",
        "\n",
        "order_intent = [\n",
        "    {\"role\": \"system\", \"content\": \"You are a intent detector. Is the input text is related to 'order placement' 'want to make order, what can i order' if so return 'Yes' else 'No'.\"},\n",
        "    {'role': 'user', 'content': 'input text'}\n",
        "]\n",
        "\n",
        "urdu_to_English = [\n",
        "    {\"role\": \"system\", \"content\": \"Converet the give urdu text into english\"},\n",
        "    {'role': 'user', 'content': 'input text'}\n",
        "]"
      ],
      "metadata": {
        "id": "TS_A3mjYdI9H"
      },
      "execution_count": 11,
      "outputs": []
    },
    {
      "cell_type": "code",
      "source": [
        "import csv\n",
        "\n",
        "def extract_order_details(user_input):\n",
        "    items = []\n",
        "    quantities = []\n",
        "\n",
        "    lines = user_input.split('\\n')\n",
        "    # Iterate over each line to extract items and quantities\n",
        "    for line in lines:\n",
        "        # Remove leading and trailing whitespaces\n",
        "        line = line.strip()\n",
        "        if line.startswith('-'):\n",
        "\n",
        "            parts = line[1:].split(':')\n",
        "            if len(parts) == 2:\n",
        "                item = parts[0].strip()\n",
        "                quantity = parts[1].strip()\n",
        "                items.append(item)\n",
        "                quantities.append(quantity)\n",
        "    print(\"ordered items are\",items, quantities)\n",
        "    return items, quantities\n",
        "\n",
        "def detect_order(user_input,  filename):\n",
        "  items, quantities = extract_order_details(user_input)\n",
        "\n",
        "  with open(filename, 'w', newline='') as csvfile:\n",
        "    fieldnames = ['item', 'quantity']\n",
        "    writer = csv.DictWriter(csvfile, fieldnames=fieldnames)\n",
        "\n",
        "    writer.writeheader()\n",
        "    for item, quantity in zip(items, quantities):\n",
        "      writer.writerow({'item': item, 'quantity': quantity})\n",
        "\n",
        "\n",
        "# Example usage\n",
        "# user_input = \"*Order*:\\n- Chicken Karahi: 1\\n- Roti: 2\\n- XYZ: 5\"\n",
        "# if \"*Order*:\" in user_input:\n",
        "#     print(\"Order detected!\")\n",
        "#     # Extract order details\n",
        "#     detect_order(user_input, 'orders.csv')\n",
        "#     # Save to CSV file\n",
        "#     print(\"Order details saved to 'orders.csv'\")\n",
        "# else:\n",
        "#     print(\"No order detected.\")"
      ],
      "metadata": {
        "id": "s41FJux26UYq"
      },
      "execution_count": 27,
      "outputs": []
    },
    {
      "cell_type": "code",
      "source": [
        "                                                      #main backbone code\n",
        "\n",
        "import datetime\n",
        "now = datetime.datetime.now()\n",
        "day = now.strftime(\"%A\")\n",
        "current_time = now.strftime(\"%H:%M\")\n",
        "output_file = \"orders.csv\"\n",
        "\n",
        "reply = ''\n",
        "question = ''\n",
        "while True:\n",
        "    message = input(\"User: \\n\")\n",
        "    #If audio use the wispher (Implementation below) back convert usng TTS at the end of cell.\n",
        "\n",
        "    if message:\n",
        "        classification[1]['content'] =  message\n",
        "\n",
        "        classify = openai.ChatCompletion.create(\n",
        "            model=\"gpt-3.5-turbo\", messages=classification\n",
        "        )\n",
        "\n",
        "    if 'urdu' or 'Urdu' or 'Hindi' in classify.choices[0].message.content:\n",
        "      urdu_to_English[1]['content'] = message\n",
        "      chat_translate = openai.ChatCompletion.create(\n",
        "            model=\"gpt-3.5-turbo\", messages=urdu_to_English\n",
        "        )\n",
        "      translated = chat_translate.choices[0].message.content\n",
        "      message =  translated\n",
        "\n",
        "    #Uptill here the text has converted into text formate from urdu, bi, audio\n",
        "    intent_detector[1]['content'] =  message #intent of about menue asking\n",
        "    intent = openai.ChatCompletion.create(\n",
        "            model=\"gpt-3.5-turbo\", messages=intent_detector\n",
        "        )\n",
        "    #intent about order placement\n",
        "    order_intent[1]['content'] =  message\n",
        "    intent_ordr = openai.ChatCompletion.create(\n",
        "            model=\"gpt-3.5-turbo\", messages=order_intent\n",
        "        )\n",
        "\n",
        "\n",
        "    #order placed\n",
        "    if \"*Order*:\" in message:\n",
        "      detect_order(message, output_file)\n",
        "      reply = f\"Your order has saved! Thank you.\"\n",
        "\n",
        "    elif 'Yes' in intent.choices[0].message.content:\n",
        "      #askin about menue\n",
        "      reply = index.query(f'Use the time only if needed ({day} {current_time}). User: {message}')\n",
        "      reply = reply.response\n",
        "\n",
        "    elif 'Yes' in intent_ordr.choices[0].message.content:\n",
        "      #want to place order\n",
        "      reply = index.query(f'Show current menue its ({day} {current_time}).')\n",
        "      reply = 'Curently avaiable iterms are: ' + reply.response + '\\n place the order using the formate \\n*Order*: \\n- Chicken Karahi: 1 \\n- Roti: 2 \\n- XYZ: 5'\n",
        "\n",
        "    else:\n",
        "      reply = index2.query(message)\n",
        "      reply = reply.response\n",
        "\n",
        "    # #reply = chat_english.choices[0].message.content\n",
        "    print(f\"ChatGPT: {reply}\")\n",
        "    # classification.append({\"role\": \"assistant\", \"content\": reply})\n"
      ],
      "metadata": {
        "colab": {
          "base_uri": "https://localhost:8080/",
          "height": 1000
        },
        "id": "wuWf5fsedF_w",
        "outputId": "ce32f856-1de6-4600-e471-8bb2c3a47a20"
      },
      "execution_count": 32,
      "outputs": [
        {
          "output_type": "stream",
          "name": "stdout",
          "text": [
            "User: \n",
            "Hello\n",
            "ChatGPT: Answer: Hi, How can i help you?\n",
            "User: \n",
            "what is in menue today?\n",
            "ChatGPT: Today is Friday, so the menu for today includes:\n",
            "- Breakfast: Pancakes, Eggs, Yogurt with Granola\n",
            "- Lunch: Salad, Sandwich, Pasta\n",
            "- Dinner: Chicken Caesar Salad, Grilled Cheese Sandwich, Beef Stroganoff\n",
            "User: \n",
            "acha muji bataye menue mai kia kia hai?\n",
            "ChatGPT: The menu for Friday includes:\n",
            "- Breakfast: Pancakes, Eggs, Yogurt with Granola\n",
            "- Lunch: Salad, Sandwich, Pasta\n",
            "- Dinner: Chicken Caesar Salad, Grilled Cheese Sandwich, Beef Stroganoff\n",
            "User: \n",
            "mai kesi tarah order kar sakta ho\n",
            "ChatGPT: Curently avaiable iterms are: The current menu for Friday at 04:15 would be:\n",
            "\n",
            "- There is no specific menu item listed for this time as it falls outside of the designated meal times for Breakfast, Lunch, and Dinner.\n",
            " place the order using the formate \n",
            "*Order*: \n",
            "- Chicken Karahi: 1 \n",
            "- Roti: 2 \n",
            "- XYZ: 5\n",
            "User: \n",
            "How can i order food?\n",
            "ChatGPT: Curently avaiable iterms are: The current menu for Friday at 04:15 would be:\n",
            "- Salad (Description: Choose your favorite salad base and toppings)\n",
            "- Sandwich (Description: Build your own sandwich with various breads, meats, and cheeses)\n",
            "- Pasta (Description: Classic pasta dishes with different sauces)\n",
            " place the order using the formate \n",
            "*Order*: \n",
            "- Chicken Karahi: 1 \n",
            "- Roti: 2 \n",
            "- XYZ: 5\n",
            "User: \n",
            "muji bhok lagi hai\n",
            "ChatGPT: If you're feeling hungry, I recommend trying our delicious Chicken Karahi with fragrant Basmati rice. It's a satisfying and flavorful meal that will surely satisfy your hunger!\n",
            "User: \n",
            "acha apna addres tu batawo\n",
            "ChatGPT: The restaurant is located at 123 Main Street, Cityville.\n",
            "User: \n",
            "tell me the address\n",
            "ChatGPT: The restaurant is located at 123 Main Street, Cityville.\n"
          ]
        },
        {
          "output_type": "error",
          "ename": "KeyboardInterrupt",
          "evalue": "Interrupted by user",
          "traceback": [
            "\u001b[0;31m---------------------------------------------------------------------------\u001b[0m",
            "\u001b[0;31mKeyboardInterrupt\u001b[0m                         Traceback (most recent call last)",
            "\u001b[0;32m<ipython-input-32-7fb629fd6a17>\u001b[0m in \u001b[0;36m<cell line: 9>\u001b[0;34m()\u001b[0m\n\u001b[1;32m      8\u001b[0m \u001b[0mquestion\u001b[0m \u001b[0;34m=\u001b[0m \u001b[0;34m''\u001b[0m\u001b[0;34m\u001b[0m\u001b[0;34m\u001b[0m\u001b[0m\n\u001b[1;32m      9\u001b[0m \u001b[0;32mwhile\u001b[0m \u001b[0;32mTrue\u001b[0m\u001b[0;34m:\u001b[0m\u001b[0;34m\u001b[0m\u001b[0;34m\u001b[0m\u001b[0m\n\u001b[0;32m---> 10\u001b[0;31m     \u001b[0mmessage\u001b[0m \u001b[0;34m=\u001b[0m \u001b[0minput\u001b[0m\u001b[0;34m(\u001b[0m\u001b[0;34m\"User: \\n\"\u001b[0m\u001b[0;34m)\u001b[0m\u001b[0;34m\u001b[0m\u001b[0;34m\u001b[0m\u001b[0m\n\u001b[0m\u001b[1;32m     11\u001b[0m     \u001b[0;31m#If audio use the wispher (Implementation below) back convert usng TTS at the end of cell.\u001b[0m\u001b[0;34m\u001b[0m\u001b[0;34m\u001b[0m\u001b[0m\n\u001b[1;32m     12\u001b[0m \u001b[0;34m\u001b[0m\u001b[0m\n",
            "\u001b[0;32m/usr/local/lib/python3.10/dist-packages/ipykernel/kernelbase.py\u001b[0m in \u001b[0;36mraw_input\u001b[0;34m(self, prompt)\u001b[0m\n\u001b[1;32m    849\u001b[0m                 \u001b[0;34m\"raw_input was called, but this frontend does not support input requests.\"\u001b[0m\u001b[0;34m\u001b[0m\u001b[0;34m\u001b[0m\u001b[0m\n\u001b[1;32m    850\u001b[0m             )\n\u001b[0;32m--> 851\u001b[0;31m         return self._input_request(str(prompt),\n\u001b[0m\u001b[1;32m    852\u001b[0m             \u001b[0mself\u001b[0m\u001b[0;34m.\u001b[0m\u001b[0m_parent_ident\u001b[0m\u001b[0;34m,\u001b[0m\u001b[0;34m\u001b[0m\u001b[0;34m\u001b[0m\u001b[0m\n\u001b[1;32m    853\u001b[0m             \u001b[0mself\u001b[0m\u001b[0;34m.\u001b[0m\u001b[0m_parent_header\u001b[0m\u001b[0;34m,\u001b[0m\u001b[0;34m\u001b[0m\u001b[0;34m\u001b[0m\u001b[0m\n",
            "\u001b[0;32m/usr/local/lib/python3.10/dist-packages/ipykernel/kernelbase.py\u001b[0m in \u001b[0;36m_input_request\u001b[0;34m(self, prompt, ident, parent, password)\u001b[0m\n\u001b[1;32m    893\u001b[0m             \u001b[0;32mexcept\u001b[0m \u001b[0mKeyboardInterrupt\u001b[0m\u001b[0;34m:\u001b[0m\u001b[0;34m\u001b[0m\u001b[0;34m\u001b[0m\u001b[0m\n\u001b[1;32m    894\u001b[0m                 \u001b[0;31m# re-raise KeyboardInterrupt, to truncate traceback\u001b[0m\u001b[0;34m\u001b[0m\u001b[0;34m\u001b[0m\u001b[0m\n\u001b[0;32m--> 895\u001b[0;31m                 \u001b[0;32mraise\u001b[0m \u001b[0mKeyboardInterrupt\u001b[0m\u001b[0;34m(\u001b[0m\u001b[0;34m\"Interrupted by user\"\u001b[0m\u001b[0;34m)\u001b[0m \u001b[0;32mfrom\u001b[0m \u001b[0;32mNone\u001b[0m\u001b[0;34m\u001b[0m\u001b[0;34m\u001b[0m\u001b[0m\n\u001b[0m\u001b[1;32m    896\u001b[0m             \u001b[0;32mexcept\u001b[0m \u001b[0mException\u001b[0m \u001b[0;32mas\u001b[0m \u001b[0me\u001b[0m\u001b[0;34m:\u001b[0m\u001b[0;34m\u001b[0m\u001b[0;34m\u001b[0m\u001b[0m\n\u001b[1;32m    897\u001b[0m                 \u001b[0mself\u001b[0m\u001b[0;34m.\u001b[0m\u001b[0mlog\u001b[0m\u001b[0;34m.\u001b[0m\u001b[0mwarning\u001b[0m\u001b[0;34m(\u001b[0m\u001b[0;34m\"Invalid Message:\"\u001b[0m\u001b[0;34m,\u001b[0m \u001b[0mexc_info\u001b[0m\u001b[0;34m=\u001b[0m\u001b[0;32mTrue\u001b[0m\u001b[0;34m)\u001b[0m\u001b[0;34m\u001b[0m\u001b[0;34m\u001b[0m\u001b[0m\n",
            "\u001b[0;31mKeyboardInterrupt\u001b[0m: Interrupted by user"
          ]
        }
      ]
    },
    {
      "cell_type": "markdown",
      "source": [
        "### classification of menue related question and non menue"
      ],
      "metadata": {
        "id": "UIinwr5uFusZ"
      }
    },
    {
      "cell_type": "markdown",
      "source": [
        "### audio input"
      ],
      "metadata": {
        "id": "8L1gtpDegVpL"
      }
    },
    {
      "cell_type": "code",
      "source": [
        "#from openai import OpenAI\n",
        "openai.api_key = os.environ[\"OPENAI_API_KEY\"]\n",
        "\n",
        "audio_file = open(\"/content/f.mp3\", \"rb\")\n",
        "transcript = openai.Audio.transcribe(\n",
        "  model=\"whisper-1\",\n",
        "  file=audio_file\n",
        ")"
      ],
      "metadata": {
        "id": "vJWbaRfegVDB"
      },
      "execution_count": 28,
      "outputs": []
    },
    {
      "cell_type": "code",
      "source": [
        "transcript.text\n",
        "#This text will go into the index files and will answer by te LLM"
      ],
      "metadata": {
        "id": "WGkweF0HkKCy",
        "colab": {
          "base_uri": "https://localhost:8080/",
          "height": 72
        },
        "outputId": "626662c1-70db-4bc7-fdb7-fe0d46f27869"
      },
      "execution_count": 29,
      "outputs": [
        {
          "output_type": "execute_result",
          "data": {
            "text/plain": [
              "'Listen, read, repeat. I have my green card and I want to work. I will call one company. It is a small company. It is not a long way from my home. I think it is a nice place to work. I have the phone number. I will call today and ask about work. Work is a very important thing to find.'"
            ],
            "application/vnd.google.colaboratory.intrinsic+json": {
              "type": "string"
            }
          },
          "metadata": {},
          "execution_count": 29
        }
      ]
    },
    {
      "cell_type": "markdown",
      "source": [
        "### text to audio"
      ],
      "metadata": {
        "id": "nGld7Gd5tHK4"
      }
    },
    {
      "cell_type": "code",
      "source": [
        "#pip install gTTS"
      ],
      "metadata": {
        "id": "8GmCyq-ducr0"
      },
      "execution_count": null,
      "outputs": []
    },
    {
      "cell_type": "code",
      "source": [
        "from pathlib import Path\n",
        "from gtts import gTTS\n",
        "\n",
        "# The text is coming from chatgpt\n",
        "text = \"The quick brown fox jumped over the lazy dog.\"\n",
        "\n",
        "# Create a gTTS object with the text and language (optional)\n",
        "tts = gTTS(text=text, lang='en')  # 'en' for English, other languages supported\n",
        "\n",
        "# Save the audio to a file\n",
        "speech_file_path = Path(\"/content/speech.mp3\")\n",
        "tts.save(speech_file_path)\n",
        "\n",
        "print(f\"Speech saved to: {speech_file_path}\")"
      ],
      "metadata": {
        "colab": {
          "base_uri": "https://localhost:8080/"
        },
        "id": "fY6M8Ou9ugsc",
        "outputId": "b74cfb8d-fe93-4516-cc0f-279ae643517a"
      },
      "execution_count": null,
      "outputs": [
        {
          "output_type": "stream",
          "name": "stdout",
          "text": [
            "Speech saved to: /content/speech.mp3\n"
          ]
        }
      ]
    },
    {
      "cell_type": "code",
      "source": [],
      "metadata": {
        "colab": {
          "base_uri": "https://localhost:8080/"
        },
        "id": "-TS4lgcgziQ-",
        "outputId": "b6926fbd-5d0c-4ec4-a00f-681a5467e58c"
      },
      "execution_count": null,
      "outputs": [
        {
          "output_type": "stream",
          "name": "stdout",
          "text": [
            "5\n"
          ]
        }
      ]
    },
    {
      "cell_type": "markdown",
      "source": [
        "# data handling\n",
        "\n",
        "This data is not revelent tried but not used"
      ],
      "metadata": {
        "id": "nW9YPHfqcAWq"
      }
    },
    {
      "cell_type": "code",
      "source": [
        "!unzip \"/content/Bitext_Sample_Customer_Support_Training_Dataset_27K_responses-v11.csv.zip\""
      ],
      "metadata": {
        "colab": {
          "base_uri": "https://localhost:8080/"
        },
        "id": "uR-8AwfUb_Ic",
        "outputId": "9a5cd050-001d-4b2e-b432-2ee3004176f0"
      },
      "execution_count": null,
      "outputs": [
        {
          "output_type": "stream",
          "name": "stdout",
          "text": [
            "Archive:  /content/Bitext_Sample_Customer_Support_Training_Dataset_27K_responses-v11.csv.zip\n",
            "  inflating: Bitext_Sample_Customer_Support_Training_Dataset_27K_responses-v11.csv  \n"
          ]
        }
      ]
    },
    {
      "cell_type": "code",
      "source": [
        "import pandas as pd\n",
        "import numpy as np\n",
        "df = pd.read_csv(\"/content/Bitext_Sample_Customer_Support_Training_Dataset_27K_responses-v11.csv\")"
      ],
      "metadata": {
        "id": "IoieKhWfb_MI"
      },
      "execution_count": null,
      "outputs": []
    },
    {
      "cell_type": "code",
      "source": [
        "df"
      ],
      "metadata": {
        "colab": {
          "base_uri": "https://localhost:8080/",
          "height": 423
        },
        "id": "Xwj2-8L6cvu5",
        "outputId": "0c24615a-e98d-4d6e-aedf-4d05eae69764"
      },
      "execution_count": null,
      "outputs": [
        {
          "output_type": "execute_result",
          "data": {
            "text/plain": [
              "       flags                                        instruction category  \\\n",
              "0          B   question about cancelling order {{Order Number}}    ORDER   \n",
              "1        BQZ  i have a question about cancelling oorder {{Or...    ORDER   \n",
              "2       BLQZ    i need help cancelling puchase {{Order Number}}    ORDER   \n",
              "3         BL         I need to cancel purchase {{Order Number}}    ORDER   \n",
              "4      BCELN  I cannot afford this order, cancel purchase {{...    ORDER   \n",
              "...      ...                                                ...      ...   \n",
              "26867     BL  I am waiting for a rebate of {{Refund Amount}}...   REFUND   \n",
              "26868    BIL  how to see if there is anything wrong with my ...   REFUND   \n",
              "26869   BLQZ  I'm waiting for a reimbjrsement of {{Currency ...   REFUND   \n",
              "26870     BL  I don't know what to do to see my reimbursemen...   REFUND   \n",
              "26871     BL  I need to know if there is anything new on the...   REFUND   \n",
              "\n",
              "             intent                                           response  \n",
              "0      cancel_order  I've understood you have a question regarding ...  \n",
              "1      cancel_order  I've been informed that you have a question ab...  \n",
              "2      cancel_order  I can sense that you're seeking assistance wit...  \n",
              "3      cancel_order  I understood that you need assistance with can...  \n",
              "4      cancel_order  I'm sensitive to the fact that you're facing f...  \n",
              "...             ...                                                ...  \n",
              "26867  track_refund  Thank you for sharing your situation regarding...  \n",
              "26868  track_refund  Ensuring the accuracy of your restitution is o...  \n",
              "26869  track_refund  Firstly, I genuinely understand the importance...  \n",
              "26870  track_refund  I've understood you're unsure about how to che...  \n",
              "26871  track_refund  It's completely understandable that you want t...  \n",
              "\n",
              "[26872 rows x 5 columns]"
            ],
            "text/html": [
              "\n",
              "  <div id=\"df-01682cb3-ea84-4b17-9f82-0fd63b214b98\" class=\"colab-df-container\">\n",
              "    <div>\n",
              "<style scoped>\n",
              "    .dataframe tbody tr th:only-of-type {\n",
              "        vertical-align: middle;\n",
              "    }\n",
              "\n",
              "    .dataframe tbody tr th {\n",
              "        vertical-align: top;\n",
              "    }\n",
              "\n",
              "    .dataframe thead th {\n",
              "        text-align: right;\n",
              "    }\n",
              "</style>\n",
              "<table border=\"1\" class=\"dataframe\">\n",
              "  <thead>\n",
              "    <tr style=\"text-align: right;\">\n",
              "      <th></th>\n",
              "      <th>flags</th>\n",
              "      <th>instruction</th>\n",
              "      <th>category</th>\n",
              "      <th>intent</th>\n",
              "      <th>response</th>\n",
              "    </tr>\n",
              "  </thead>\n",
              "  <tbody>\n",
              "    <tr>\n",
              "      <th>0</th>\n",
              "      <td>B</td>\n",
              "      <td>question about cancelling order {{Order Number}}</td>\n",
              "      <td>ORDER</td>\n",
              "      <td>cancel_order</td>\n",
              "      <td>I've understood you have a question regarding ...</td>\n",
              "    </tr>\n",
              "    <tr>\n",
              "      <th>1</th>\n",
              "      <td>BQZ</td>\n",
              "      <td>i have a question about cancelling oorder {{Or...</td>\n",
              "      <td>ORDER</td>\n",
              "      <td>cancel_order</td>\n",
              "      <td>I've been informed that you have a question ab...</td>\n",
              "    </tr>\n",
              "    <tr>\n",
              "      <th>2</th>\n",
              "      <td>BLQZ</td>\n",
              "      <td>i need help cancelling puchase {{Order Number}}</td>\n",
              "      <td>ORDER</td>\n",
              "      <td>cancel_order</td>\n",
              "      <td>I can sense that you're seeking assistance wit...</td>\n",
              "    </tr>\n",
              "    <tr>\n",
              "      <th>3</th>\n",
              "      <td>BL</td>\n",
              "      <td>I need to cancel purchase {{Order Number}}</td>\n",
              "      <td>ORDER</td>\n",
              "      <td>cancel_order</td>\n",
              "      <td>I understood that you need assistance with can...</td>\n",
              "    </tr>\n",
              "    <tr>\n",
              "      <th>4</th>\n",
              "      <td>BCELN</td>\n",
              "      <td>I cannot afford this order, cancel purchase {{...</td>\n",
              "      <td>ORDER</td>\n",
              "      <td>cancel_order</td>\n",
              "      <td>I'm sensitive to the fact that you're facing f...</td>\n",
              "    </tr>\n",
              "    <tr>\n",
              "      <th>...</th>\n",
              "      <td>...</td>\n",
              "      <td>...</td>\n",
              "      <td>...</td>\n",
              "      <td>...</td>\n",
              "      <td>...</td>\n",
              "    </tr>\n",
              "    <tr>\n",
              "      <th>26867</th>\n",
              "      <td>BL</td>\n",
              "      <td>I am waiting for a rebate of {{Refund Amount}}...</td>\n",
              "      <td>REFUND</td>\n",
              "      <td>track_refund</td>\n",
              "      <td>Thank you for sharing your situation regarding...</td>\n",
              "    </tr>\n",
              "    <tr>\n",
              "      <th>26868</th>\n",
              "      <td>BIL</td>\n",
              "      <td>how to see if there is anything wrong with my ...</td>\n",
              "      <td>REFUND</td>\n",
              "      <td>track_refund</td>\n",
              "      <td>Ensuring the accuracy of your restitution is o...</td>\n",
              "    </tr>\n",
              "    <tr>\n",
              "      <th>26869</th>\n",
              "      <td>BLQZ</td>\n",
              "      <td>I'm waiting for a reimbjrsement of {{Currency ...</td>\n",
              "      <td>REFUND</td>\n",
              "      <td>track_refund</td>\n",
              "      <td>Firstly, I genuinely understand the importance...</td>\n",
              "    </tr>\n",
              "    <tr>\n",
              "      <th>26870</th>\n",
              "      <td>BL</td>\n",
              "      <td>I don't know what to do to see my reimbursemen...</td>\n",
              "      <td>REFUND</td>\n",
              "      <td>track_refund</td>\n",
              "      <td>I've understood you're unsure about how to che...</td>\n",
              "    </tr>\n",
              "    <tr>\n",
              "      <th>26871</th>\n",
              "      <td>BL</td>\n",
              "      <td>I need to know if there is anything new on the...</td>\n",
              "      <td>REFUND</td>\n",
              "      <td>track_refund</td>\n",
              "      <td>It's completely understandable that you want t...</td>\n",
              "    </tr>\n",
              "  </tbody>\n",
              "</table>\n",
              "<p>26872 rows × 5 columns</p>\n",
              "</div>\n",
              "    <div class=\"colab-df-buttons\">\n",
              "\n",
              "  <div class=\"colab-df-container\">\n",
              "    <button class=\"colab-df-convert\" onclick=\"convertToInteractive('df-01682cb3-ea84-4b17-9f82-0fd63b214b98')\"\n",
              "            title=\"Convert this dataframe to an interactive table.\"\n",
              "            style=\"display:none;\">\n",
              "\n",
              "  <svg xmlns=\"http://www.w3.org/2000/svg\" height=\"24px\" viewBox=\"0 -960 960 960\">\n",
              "    <path d=\"M120-120v-720h720v720H120Zm60-500h600v-160H180v160Zm220 220h160v-160H400v160Zm0 220h160v-160H400v160ZM180-400h160v-160H180v160Zm440 0h160v-160H620v160ZM180-180h160v-160H180v160Zm440 0h160v-160H620v160Z\"/>\n",
              "  </svg>\n",
              "    </button>\n",
              "\n",
              "  <style>\n",
              "    .colab-df-container {\n",
              "      display:flex;\n",
              "      gap: 12px;\n",
              "    }\n",
              "\n",
              "    .colab-df-convert {\n",
              "      background-color: #E8F0FE;\n",
              "      border: none;\n",
              "      border-radius: 50%;\n",
              "      cursor: pointer;\n",
              "      display: none;\n",
              "      fill: #1967D2;\n",
              "      height: 32px;\n",
              "      padding: 0 0 0 0;\n",
              "      width: 32px;\n",
              "    }\n",
              "\n",
              "    .colab-df-convert:hover {\n",
              "      background-color: #E2EBFA;\n",
              "      box-shadow: 0px 1px 2px rgba(60, 64, 67, 0.3), 0px 1px 3px 1px rgba(60, 64, 67, 0.15);\n",
              "      fill: #174EA6;\n",
              "    }\n",
              "\n",
              "    .colab-df-buttons div {\n",
              "      margin-bottom: 4px;\n",
              "    }\n",
              "\n",
              "    [theme=dark] .colab-df-convert {\n",
              "      background-color: #3B4455;\n",
              "      fill: #D2E3FC;\n",
              "    }\n",
              "\n",
              "    [theme=dark] .colab-df-convert:hover {\n",
              "      background-color: #434B5C;\n",
              "      box-shadow: 0px 1px 3px 1px rgba(0, 0, 0, 0.15);\n",
              "      filter: drop-shadow(0px 1px 2px rgba(0, 0, 0, 0.3));\n",
              "      fill: #FFFFFF;\n",
              "    }\n",
              "  </style>\n",
              "\n",
              "    <script>\n",
              "      const buttonEl =\n",
              "        document.querySelector('#df-01682cb3-ea84-4b17-9f82-0fd63b214b98 button.colab-df-convert');\n",
              "      buttonEl.style.display =\n",
              "        google.colab.kernel.accessAllowed ? 'block' : 'none';\n",
              "\n",
              "      async function convertToInteractive(key) {\n",
              "        const element = document.querySelector('#df-01682cb3-ea84-4b17-9f82-0fd63b214b98');\n",
              "        const dataTable =\n",
              "          await google.colab.kernel.invokeFunction('convertToInteractive',\n",
              "                                                    [key], {});\n",
              "        if (!dataTable) return;\n",
              "\n",
              "        const docLinkHtml = 'Like what you see? Visit the ' +\n",
              "          '<a target=\"_blank\" href=https://colab.research.google.com/notebooks/data_table.ipynb>data table notebook</a>'\n",
              "          + ' to learn more about interactive tables.';\n",
              "        element.innerHTML = '';\n",
              "        dataTable['output_type'] = 'display_data';\n",
              "        await google.colab.output.renderOutput(dataTable, element);\n",
              "        const docLink = document.createElement('div');\n",
              "        docLink.innerHTML = docLinkHtml;\n",
              "        element.appendChild(docLink);\n",
              "      }\n",
              "    </script>\n",
              "  </div>\n",
              "\n",
              "\n",
              "<div id=\"df-a26c7653-9be2-4014-b31f-aa96473a4e07\">\n",
              "  <button class=\"colab-df-quickchart\" onclick=\"quickchart('df-a26c7653-9be2-4014-b31f-aa96473a4e07')\"\n",
              "            title=\"Suggest charts\"\n",
              "            style=\"display:none;\">\n",
              "\n",
              "<svg xmlns=\"http://www.w3.org/2000/svg\" height=\"24px\"viewBox=\"0 0 24 24\"\n",
              "     width=\"24px\">\n",
              "    <g>\n",
              "        <path d=\"M19 3H5c-1.1 0-2 .9-2 2v14c0 1.1.9 2 2 2h14c1.1 0 2-.9 2-2V5c0-1.1-.9-2-2-2zM9 17H7v-7h2v7zm4 0h-2V7h2v10zm4 0h-2v-4h2v4z\"/>\n",
              "    </g>\n",
              "</svg>\n",
              "  </button>\n",
              "\n",
              "<style>\n",
              "  .colab-df-quickchart {\n",
              "      --bg-color: #E8F0FE;\n",
              "      --fill-color: #1967D2;\n",
              "      --hover-bg-color: #E2EBFA;\n",
              "      --hover-fill-color: #174EA6;\n",
              "      --disabled-fill-color: #AAA;\n",
              "      --disabled-bg-color: #DDD;\n",
              "  }\n",
              "\n",
              "  [theme=dark] .colab-df-quickchart {\n",
              "      --bg-color: #3B4455;\n",
              "      --fill-color: #D2E3FC;\n",
              "      --hover-bg-color: #434B5C;\n",
              "      --hover-fill-color: #FFFFFF;\n",
              "      --disabled-bg-color: #3B4455;\n",
              "      --disabled-fill-color: #666;\n",
              "  }\n",
              "\n",
              "  .colab-df-quickchart {\n",
              "    background-color: var(--bg-color);\n",
              "    border: none;\n",
              "    border-radius: 50%;\n",
              "    cursor: pointer;\n",
              "    display: none;\n",
              "    fill: var(--fill-color);\n",
              "    height: 32px;\n",
              "    padding: 0;\n",
              "    width: 32px;\n",
              "  }\n",
              "\n",
              "  .colab-df-quickchart:hover {\n",
              "    background-color: var(--hover-bg-color);\n",
              "    box-shadow: 0 1px 2px rgba(60, 64, 67, 0.3), 0 1px 3px 1px rgba(60, 64, 67, 0.15);\n",
              "    fill: var(--button-hover-fill-color);\n",
              "  }\n",
              "\n",
              "  .colab-df-quickchart-complete:disabled,\n",
              "  .colab-df-quickchart-complete:disabled:hover {\n",
              "    background-color: var(--disabled-bg-color);\n",
              "    fill: var(--disabled-fill-color);\n",
              "    box-shadow: none;\n",
              "  }\n",
              "\n",
              "  .colab-df-spinner {\n",
              "    border: 2px solid var(--fill-color);\n",
              "    border-color: transparent;\n",
              "    border-bottom-color: var(--fill-color);\n",
              "    animation:\n",
              "      spin 1s steps(1) infinite;\n",
              "  }\n",
              "\n",
              "  @keyframes spin {\n",
              "    0% {\n",
              "      border-color: transparent;\n",
              "      border-bottom-color: var(--fill-color);\n",
              "      border-left-color: var(--fill-color);\n",
              "    }\n",
              "    20% {\n",
              "      border-color: transparent;\n",
              "      border-left-color: var(--fill-color);\n",
              "      border-top-color: var(--fill-color);\n",
              "    }\n",
              "    30% {\n",
              "      border-color: transparent;\n",
              "      border-left-color: var(--fill-color);\n",
              "      border-top-color: var(--fill-color);\n",
              "      border-right-color: var(--fill-color);\n",
              "    }\n",
              "    40% {\n",
              "      border-color: transparent;\n",
              "      border-right-color: var(--fill-color);\n",
              "      border-top-color: var(--fill-color);\n",
              "    }\n",
              "    60% {\n",
              "      border-color: transparent;\n",
              "      border-right-color: var(--fill-color);\n",
              "    }\n",
              "    80% {\n",
              "      border-color: transparent;\n",
              "      border-right-color: var(--fill-color);\n",
              "      border-bottom-color: var(--fill-color);\n",
              "    }\n",
              "    90% {\n",
              "      border-color: transparent;\n",
              "      border-bottom-color: var(--fill-color);\n",
              "    }\n",
              "  }\n",
              "</style>\n",
              "\n",
              "  <script>\n",
              "    async function quickchart(key) {\n",
              "      const quickchartButtonEl =\n",
              "        document.querySelector('#' + key + ' button');\n",
              "      quickchartButtonEl.disabled = true;  // To prevent multiple clicks.\n",
              "      quickchartButtonEl.classList.add('colab-df-spinner');\n",
              "      try {\n",
              "        const charts = await google.colab.kernel.invokeFunction(\n",
              "            'suggestCharts', [key], {});\n",
              "      } catch (error) {\n",
              "        console.error('Error during call to suggestCharts:', error);\n",
              "      }\n",
              "      quickchartButtonEl.classList.remove('colab-df-spinner');\n",
              "      quickchartButtonEl.classList.add('colab-df-quickchart-complete');\n",
              "    }\n",
              "    (() => {\n",
              "      let quickchartButtonEl =\n",
              "        document.querySelector('#df-a26c7653-9be2-4014-b31f-aa96473a4e07 button');\n",
              "      quickchartButtonEl.style.display =\n",
              "        google.colab.kernel.accessAllowed ? 'block' : 'none';\n",
              "    })();\n",
              "  </script>\n",
              "</div>\n",
              "\n",
              "  <div id=\"id_19189860-6f0a-4696-8430-0628507770a8\">\n",
              "    <style>\n",
              "      .colab-df-generate {\n",
              "        background-color: #E8F0FE;\n",
              "        border: none;\n",
              "        border-radius: 50%;\n",
              "        cursor: pointer;\n",
              "        display: none;\n",
              "        fill: #1967D2;\n",
              "        height: 32px;\n",
              "        padding: 0 0 0 0;\n",
              "        width: 32px;\n",
              "      }\n",
              "\n",
              "      .colab-df-generate:hover {\n",
              "        background-color: #E2EBFA;\n",
              "        box-shadow: 0px 1px 2px rgba(60, 64, 67, 0.3), 0px 1px 3px 1px rgba(60, 64, 67, 0.15);\n",
              "        fill: #174EA6;\n",
              "      }\n",
              "\n",
              "      [theme=dark] .colab-df-generate {\n",
              "        background-color: #3B4455;\n",
              "        fill: #D2E3FC;\n",
              "      }\n",
              "\n",
              "      [theme=dark] .colab-df-generate:hover {\n",
              "        background-color: #434B5C;\n",
              "        box-shadow: 0px 1px 3px 1px rgba(0, 0, 0, 0.15);\n",
              "        filter: drop-shadow(0px 1px 2px rgba(0, 0, 0, 0.3));\n",
              "        fill: #FFFFFF;\n",
              "      }\n",
              "    </style>\n",
              "    <button class=\"colab-df-generate\" onclick=\"generateWithVariable('df')\"\n",
              "            title=\"Generate code using this dataframe.\"\n",
              "            style=\"display:none;\">\n",
              "\n",
              "  <svg xmlns=\"http://www.w3.org/2000/svg\" height=\"24px\"viewBox=\"0 0 24 24\"\n",
              "       width=\"24px\">\n",
              "    <path d=\"M7,19H8.4L18.45,9,17,7.55,7,17.6ZM5,21V16.75L18.45,3.32a2,2,0,0,1,2.83,0l1.4,1.43a1.91,1.91,0,0,1,.58,1.4,1.91,1.91,0,0,1-.58,1.4L9.25,21ZM18.45,9,17,7.55Zm-12,3A5.31,5.31,0,0,0,4.9,8.1,5.31,5.31,0,0,0,1,6.5,5.31,5.31,0,0,0,4.9,4.9,5.31,5.31,0,0,0,6.5,1,5.31,5.31,0,0,0,8.1,4.9,5.31,5.31,0,0,0,12,6.5,5.46,5.46,0,0,0,6.5,12Z\"/>\n",
              "  </svg>\n",
              "    </button>\n",
              "    <script>\n",
              "      (() => {\n",
              "      const buttonEl =\n",
              "        document.querySelector('#id_19189860-6f0a-4696-8430-0628507770a8 button.colab-df-generate');\n",
              "      buttonEl.style.display =\n",
              "        google.colab.kernel.accessAllowed ? 'block' : 'none';\n",
              "\n",
              "      buttonEl.onclick = () => {\n",
              "        google.colab.notebook.generateWithVariable('df');\n",
              "      }\n",
              "      })();\n",
              "    </script>\n",
              "  </div>\n",
              "\n",
              "    </div>\n",
              "  </div>\n"
            ],
            "application/vnd.google.colaboratory.intrinsic+json": {
              "type": "dataframe",
              "variable_name": "df",
              "summary": "{\n  \"name\": \"df\",\n  \"rows\": 26872,\n  \"fields\": [\n    {\n      \"column\": \"flags\",\n      \"properties\": {\n        \"dtype\": \"category\",\n        \"num_unique_values\": 394,\n        \"samples\": [\n          \"BCELNQ\",\n          \"BS\",\n          \"BCILNZ\"\n        ],\n        \"semantic_type\": \"\",\n        \"description\": \"\"\n      }\n    },\n    {\n      \"column\": \"instruction\",\n      \"properties\": {\n        \"dtype\": \"string\",\n        \"num_unique_values\": 24635,\n        \"samples\": [\n          \"I have an issue with the online registration\",\n          \"can you help me to open a standard account?\",\n          \"I want to locate order {{Order Number}}, could I get some help?\"\n        ],\n        \"semantic_type\": \"\",\n        \"description\": \"\"\n      }\n    },\n    {\n      \"column\": \"category\",\n      \"properties\": {\n        \"dtype\": \"category\",\n        \"num_unique_values\": 11,\n        \"samples\": [\n          \"REFUND\",\n          \"ORDER\",\n          \"DELIVERY\"\n        ],\n        \"semantic_type\": \"\",\n        \"description\": \"\"\n      }\n    },\n    {\n      \"column\": \"intent\",\n      \"properties\": {\n        \"dtype\": \"category\",\n        \"num_unique_values\": 27,\n        \"samples\": [\n          \"contact_customer_service\",\n          \"delivery_period\",\n          \"contact_human_agent\"\n        ],\n        \"semantic_type\": \"\",\n        \"description\": \"\"\n      }\n    },\n    {\n      \"column\": \"response\",\n      \"properties\": {\n        \"dtype\": \"string\",\n        \"num_unique_values\": 26870,\n        \"samples\": [\n          \"Thank you for reaching out! I'm sorry to hear that you're facing difficulties in connecting with a human agent. Please rest assured that I'm here to assist you and resolve this issue. Could you please provide me with some more details about the problem you're experiencing? This will help me find the best solution for you.\",\n          \"I'll get right on it! I understand your need to locate the bills associated with {{Person Name}}. To assist you in finding the relevant invoices, could you please provide me with some additional details such as the date range or any other specific information that might help narrow down the search? Rest assured, I'm here to guide you every step of the way and ensure a seamless experience.\",\n          \"Definitely! I'm here to provide you with the necessary assistance in reporting any payment problems you are facing. Please share the specific details of the issue you're encountering, such as the nature of the problem, any error messages you've received, and any relevant transaction or account information. This will help us investigate and address the problem effectively. We appreciate your cooperation in bringing this matter to our attention, and we're committed to working together to find a solution.\"\n        ],\n        \"semantic_type\": \"\",\n        \"description\": \"\"\n      }\n    }\n  ]\n}"
            }
          },
          "metadata": {},
          "execution_count": 25
        }
      ]
    },
    {
      "cell_type": "code",
      "source": [
        "df['category'].value_counts()"
      ],
      "metadata": {
        "colab": {
          "base_uri": "https://localhost:8080/"
        },
        "id": "MXHOr0NQcxtK",
        "outputId": "257eb796-4825-4320-9d47-37ccb102e196"
      },
      "execution_count": null,
      "outputs": [
        {
          "output_type": "execute_result",
          "data": {
            "text/plain": [
              "ACCOUNT         5986\n",
              "ORDER           3988\n",
              "REFUND          2992\n",
              "INVOICE         1999\n",
              "CONTACT         1999\n",
              "PAYMENT         1998\n",
              "FEEDBACK        1997\n",
              "DELIVERY        1994\n",
              "SHIPPING        1970\n",
              "SUBSCRIPTION     999\n",
              "CANCEL           950\n",
              "Name: category, dtype: int64"
            ]
          },
          "metadata": {},
          "execution_count": 23
        }
      ]
    },
    {
      "cell_type": "code",
      "source": [
        "filtered_df = pd.concat([df[df['category'] == category].head(500) for category in df['category'].unique()])\n",
        "\n",
        "# Verify the new count of rows for each category\n",
        "filtered_df['category'].value_counts()"
      ],
      "metadata": {
        "colab": {
          "base_uri": "https://localhost:8080/"
        },
        "id": "GxNl1vxac6Vv",
        "outputId": "af3870dd-e8c9-48e9-f86f-229711da142e"
      },
      "execution_count": null,
      "outputs": [
        {
          "output_type": "execute_result",
          "data": {
            "text/plain": [
              "ORDER           500\n",
              "SHIPPING        500\n",
              "CANCEL          500\n",
              "INVOICE         500\n",
              "PAYMENT         500\n",
              "REFUND          500\n",
              "FEEDBACK        500\n",
              "CONTACT         500\n",
              "ACCOUNT         500\n",
              "DELIVERY        500\n",
              "SUBSCRIPTION    500\n",
              "Name: category, dtype: int64"
            ]
          },
          "metadata": {},
          "execution_count": 24
        }
      ]
    },
    {
      "cell_type": "code",
      "source": [],
      "metadata": {
        "id": "yrxW8fj6ehpQ"
      },
      "execution_count": null,
      "outputs": []
    },
    {
      "cell_type": "code",
      "source": [
        "final = filtered_df.drop(columns = ['flags','category','intent'])"
      ],
      "metadata": {
        "id": "5yFhdQ8gd7Jv"
      },
      "execution_count": null,
      "outputs": []
    },
    {
      "cell_type": "code",
      "source": [
        "final"
      ],
      "metadata": {
        "colab": {
          "base_uri": "https://localhost:8080/",
          "height": 423
        },
        "id": "BQ3hfrg2eB9s",
        "outputId": "8a4fd2ad-f4d2-47f6-8374-b7e03ca0e50d"
      },
      "execution_count": null,
      "outputs": [
        {
          "output_type": "execute_result",
          "data": {
            "text/plain": [
              "                                             instruction  \\\n",
              "0       question about cancelling order {{Order Number}}   \n",
              "1      i have a question about cancelling oorder {{Or...   \n",
              "2        i need help cancelling puchase {{Order Number}}   \n",
              "3             I need to cancel purchase {{Order Number}}   \n",
              "4      I cannot afford this order, cancel purchase {{...   \n",
              "...                                                  ...   \n",
              "17390  I need help cancelling my bloody newsletter su...   \n",
              "17391  I don't know how to receive the company newsle...   \n",
              "17392  wanna cancel my subscription to the company ne...   \n",
              "17393           I want to unsubscribe from the newsleter   \n",
              "17394        I want assistance to receive the newsletter   \n",
              "\n",
              "                                                response  \n",
              "0      I've understood you have a question regarding ...  \n",
              "1      I've been informed that you have a question ab...  \n",
              "2      I can sense that you're seeking assistance wit...  \n",
              "3      I understood that you need assistance with can...  \n",
              "4      I'm sensitive to the fact that you're facing f...  \n",
              "...                                                  ...  \n",
              "17390  I appreciate that you're looking to cancel you...  \n",
              "17391  I've understood you're unsure about how to rec...  \n",
              "17392  I fathom that you would like to cancel your su...  \n",
              "17393  I've understood, you're looking to unsubscribe...  \n",
              "17394  That's fantastic! I truly appreciate your inte...  \n",
              "\n",
              "[5500 rows x 2 columns]"
            ],
            "text/html": [
              "\n",
              "  <div id=\"df-c287d84e-6ae0-47f8-b739-6ee3f8c4f2da\" class=\"colab-df-container\">\n",
              "    <div>\n",
              "<style scoped>\n",
              "    .dataframe tbody tr th:only-of-type {\n",
              "        vertical-align: middle;\n",
              "    }\n",
              "\n",
              "    .dataframe tbody tr th {\n",
              "        vertical-align: top;\n",
              "    }\n",
              "\n",
              "    .dataframe thead th {\n",
              "        text-align: right;\n",
              "    }\n",
              "</style>\n",
              "<table border=\"1\" class=\"dataframe\">\n",
              "  <thead>\n",
              "    <tr style=\"text-align: right;\">\n",
              "      <th></th>\n",
              "      <th>instruction</th>\n",
              "      <th>response</th>\n",
              "    </tr>\n",
              "  </thead>\n",
              "  <tbody>\n",
              "    <tr>\n",
              "      <th>0</th>\n",
              "      <td>question about cancelling order {{Order Number}}</td>\n",
              "      <td>I've understood you have a question regarding ...</td>\n",
              "    </tr>\n",
              "    <tr>\n",
              "      <th>1</th>\n",
              "      <td>i have a question about cancelling oorder {{Or...</td>\n",
              "      <td>I've been informed that you have a question ab...</td>\n",
              "    </tr>\n",
              "    <tr>\n",
              "      <th>2</th>\n",
              "      <td>i need help cancelling puchase {{Order Number}}</td>\n",
              "      <td>I can sense that you're seeking assistance wit...</td>\n",
              "    </tr>\n",
              "    <tr>\n",
              "      <th>3</th>\n",
              "      <td>I need to cancel purchase {{Order Number}}</td>\n",
              "      <td>I understood that you need assistance with can...</td>\n",
              "    </tr>\n",
              "    <tr>\n",
              "      <th>4</th>\n",
              "      <td>I cannot afford this order, cancel purchase {{...</td>\n",
              "      <td>I'm sensitive to the fact that you're facing f...</td>\n",
              "    </tr>\n",
              "    <tr>\n",
              "      <th>...</th>\n",
              "      <td>...</td>\n",
              "      <td>...</td>\n",
              "    </tr>\n",
              "    <tr>\n",
              "      <th>17390</th>\n",
              "      <td>I need help cancelling my bloody newsletter su...</td>\n",
              "      <td>I appreciate that you're looking to cancel you...</td>\n",
              "    </tr>\n",
              "    <tr>\n",
              "      <th>17391</th>\n",
              "      <td>I don't know how to receive the company newsle...</td>\n",
              "      <td>I've understood you're unsure about how to rec...</td>\n",
              "    </tr>\n",
              "    <tr>\n",
              "      <th>17392</th>\n",
              "      <td>wanna cancel my subscription to the company ne...</td>\n",
              "      <td>I fathom that you would like to cancel your su...</td>\n",
              "    </tr>\n",
              "    <tr>\n",
              "      <th>17393</th>\n",
              "      <td>I want to unsubscribe from the newsleter</td>\n",
              "      <td>I've understood, you're looking to unsubscribe...</td>\n",
              "    </tr>\n",
              "    <tr>\n",
              "      <th>17394</th>\n",
              "      <td>I want assistance to receive the newsletter</td>\n",
              "      <td>That's fantastic! I truly appreciate your inte...</td>\n",
              "    </tr>\n",
              "  </tbody>\n",
              "</table>\n",
              "<p>5500 rows × 2 columns</p>\n",
              "</div>\n",
              "    <div class=\"colab-df-buttons\">\n",
              "\n",
              "  <div class=\"colab-df-container\">\n",
              "    <button class=\"colab-df-convert\" onclick=\"convertToInteractive('df-c287d84e-6ae0-47f8-b739-6ee3f8c4f2da')\"\n",
              "            title=\"Convert this dataframe to an interactive table.\"\n",
              "            style=\"display:none;\">\n",
              "\n",
              "  <svg xmlns=\"http://www.w3.org/2000/svg\" height=\"24px\" viewBox=\"0 -960 960 960\">\n",
              "    <path d=\"M120-120v-720h720v720H120Zm60-500h600v-160H180v160Zm220 220h160v-160H400v160Zm0 220h160v-160H400v160ZM180-400h160v-160H180v160Zm440 0h160v-160H620v160ZM180-180h160v-160H180v160Zm440 0h160v-160H620v160Z\"/>\n",
              "  </svg>\n",
              "    </button>\n",
              "\n",
              "  <style>\n",
              "    .colab-df-container {\n",
              "      display:flex;\n",
              "      gap: 12px;\n",
              "    }\n",
              "\n",
              "    .colab-df-convert {\n",
              "      background-color: #E8F0FE;\n",
              "      border: none;\n",
              "      border-radius: 50%;\n",
              "      cursor: pointer;\n",
              "      display: none;\n",
              "      fill: #1967D2;\n",
              "      height: 32px;\n",
              "      padding: 0 0 0 0;\n",
              "      width: 32px;\n",
              "    }\n",
              "\n",
              "    .colab-df-convert:hover {\n",
              "      background-color: #E2EBFA;\n",
              "      box-shadow: 0px 1px 2px rgba(60, 64, 67, 0.3), 0px 1px 3px 1px rgba(60, 64, 67, 0.15);\n",
              "      fill: #174EA6;\n",
              "    }\n",
              "\n",
              "    .colab-df-buttons div {\n",
              "      margin-bottom: 4px;\n",
              "    }\n",
              "\n",
              "    [theme=dark] .colab-df-convert {\n",
              "      background-color: #3B4455;\n",
              "      fill: #D2E3FC;\n",
              "    }\n",
              "\n",
              "    [theme=dark] .colab-df-convert:hover {\n",
              "      background-color: #434B5C;\n",
              "      box-shadow: 0px 1px 3px 1px rgba(0, 0, 0, 0.15);\n",
              "      filter: drop-shadow(0px 1px 2px rgba(0, 0, 0, 0.3));\n",
              "      fill: #FFFFFF;\n",
              "    }\n",
              "  </style>\n",
              "\n",
              "    <script>\n",
              "      const buttonEl =\n",
              "        document.querySelector('#df-c287d84e-6ae0-47f8-b739-6ee3f8c4f2da button.colab-df-convert');\n",
              "      buttonEl.style.display =\n",
              "        google.colab.kernel.accessAllowed ? 'block' : 'none';\n",
              "\n",
              "      async function convertToInteractive(key) {\n",
              "        const element = document.querySelector('#df-c287d84e-6ae0-47f8-b739-6ee3f8c4f2da');\n",
              "        const dataTable =\n",
              "          await google.colab.kernel.invokeFunction('convertToInteractive',\n",
              "                                                    [key], {});\n",
              "        if (!dataTable) return;\n",
              "\n",
              "        const docLinkHtml = 'Like what you see? Visit the ' +\n",
              "          '<a target=\"_blank\" href=https://colab.research.google.com/notebooks/data_table.ipynb>data table notebook</a>'\n",
              "          + ' to learn more about interactive tables.';\n",
              "        element.innerHTML = '';\n",
              "        dataTable['output_type'] = 'display_data';\n",
              "        await google.colab.output.renderOutput(dataTable, element);\n",
              "        const docLink = document.createElement('div');\n",
              "        docLink.innerHTML = docLinkHtml;\n",
              "        element.appendChild(docLink);\n",
              "      }\n",
              "    </script>\n",
              "  </div>\n",
              "\n",
              "\n",
              "<div id=\"df-e317d4e7-d826-47a1-b8a8-25971854afd2\">\n",
              "  <button class=\"colab-df-quickchart\" onclick=\"quickchart('df-e317d4e7-d826-47a1-b8a8-25971854afd2')\"\n",
              "            title=\"Suggest charts\"\n",
              "            style=\"display:none;\">\n",
              "\n",
              "<svg xmlns=\"http://www.w3.org/2000/svg\" height=\"24px\"viewBox=\"0 0 24 24\"\n",
              "     width=\"24px\">\n",
              "    <g>\n",
              "        <path d=\"M19 3H5c-1.1 0-2 .9-2 2v14c0 1.1.9 2 2 2h14c1.1 0 2-.9 2-2V5c0-1.1-.9-2-2-2zM9 17H7v-7h2v7zm4 0h-2V7h2v10zm4 0h-2v-4h2v4z\"/>\n",
              "    </g>\n",
              "</svg>\n",
              "  </button>\n",
              "\n",
              "<style>\n",
              "  .colab-df-quickchart {\n",
              "      --bg-color: #E8F0FE;\n",
              "      --fill-color: #1967D2;\n",
              "      --hover-bg-color: #E2EBFA;\n",
              "      --hover-fill-color: #174EA6;\n",
              "      --disabled-fill-color: #AAA;\n",
              "      --disabled-bg-color: #DDD;\n",
              "  }\n",
              "\n",
              "  [theme=dark] .colab-df-quickchart {\n",
              "      --bg-color: #3B4455;\n",
              "      --fill-color: #D2E3FC;\n",
              "      --hover-bg-color: #434B5C;\n",
              "      --hover-fill-color: #FFFFFF;\n",
              "      --disabled-bg-color: #3B4455;\n",
              "      --disabled-fill-color: #666;\n",
              "  }\n",
              "\n",
              "  .colab-df-quickchart {\n",
              "    background-color: var(--bg-color);\n",
              "    border: none;\n",
              "    border-radius: 50%;\n",
              "    cursor: pointer;\n",
              "    display: none;\n",
              "    fill: var(--fill-color);\n",
              "    height: 32px;\n",
              "    padding: 0;\n",
              "    width: 32px;\n",
              "  }\n",
              "\n",
              "  .colab-df-quickchart:hover {\n",
              "    background-color: var(--hover-bg-color);\n",
              "    box-shadow: 0 1px 2px rgba(60, 64, 67, 0.3), 0 1px 3px 1px rgba(60, 64, 67, 0.15);\n",
              "    fill: var(--button-hover-fill-color);\n",
              "  }\n",
              "\n",
              "  .colab-df-quickchart-complete:disabled,\n",
              "  .colab-df-quickchart-complete:disabled:hover {\n",
              "    background-color: var(--disabled-bg-color);\n",
              "    fill: var(--disabled-fill-color);\n",
              "    box-shadow: none;\n",
              "  }\n",
              "\n",
              "  .colab-df-spinner {\n",
              "    border: 2px solid var(--fill-color);\n",
              "    border-color: transparent;\n",
              "    border-bottom-color: var(--fill-color);\n",
              "    animation:\n",
              "      spin 1s steps(1) infinite;\n",
              "  }\n",
              "\n",
              "  @keyframes spin {\n",
              "    0% {\n",
              "      border-color: transparent;\n",
              "      border-bottom-color: var(--fill-color);\n",
              "      border-left-color: var(--fill-color);\n",
              "    }\n",
              "    20% {\n",
              "      border-color: transparent;\n",
              "      border-left-color: var(--fill-color);\n",
              "      border-top-color: var(--fill-color);\n",
              "    }\n",
              "    30% {\n",
              "      border-color: transparent;\n",
              "      border-left-color: var(--fill-color);\n",
              "      border-top-color: var(--fill-color);\n",
              "      border-right-color: var(--fill-color);\n",
              "    }\n",
              "    40% {\n",
              "      border-color: transparent;\n",
              "      border-right-color: var(--fill-color);\n",
              "      border-top-color: var(--fill-color);\n",
              "    }\n",
              "    60% {\n",
              "      border-color: transparent;\n",
              "      border-right-color: var(--fill-color);\n",
              "    }\n",
              "    80% {\n",
              "      border-color: transparent;\n",
              "      border-right-color: var(--fill-color);\n",
              "      border-bottom-color: var(--fill-color);\n",
              "    }\n",
              "    90% {\n",
              "      border-color: transparent;\n",
              "      border-bottom-color: var(--fill-color);\n",
              "    }\n",
              "  }\n",
              "</style>\n",
              "\n",
              "  <script>\n",
              "    async function quickchart(key) {\n",
              "      const quickchartButtonEl =\n",
              "        document.querySelector('#' + key + ' button');\n",
              "      quickchartButtonEl.disabled = true;  // To prevent multiple clicks.\n",
              "      quickchartButtonEl.classList.add('colab-df-spinner');\n",
              "      try {\n",
              "        const charts = await google.colab.kernel.invokeFunction(\n",
              "            'suggestCharts', [key], {});\n",
              "      } catch (error) {\n",
              "        console.error('Error during call to suggestCharts:', error);\n",
              "      }\n",
              "      quickchartButtonEl.classList.remove('colab-df-spinner');\n",
              "      quickchartButtonEl.classList.add('colab-df-quickchart-complete');\n",
              "    }\n",
              "    (() => {\n",
              "      let quickchartButtonEl =\n",
              "        document.querySelector('#df-e317d4e7-d826-47a1-b8a8-25971854afd2 button');\n",
              "      quickchartButtonEl.style.display =\n",
              "        google.colab.kernel.accessAllowed ? 'block' : 'none';\n",
              "    })();\n",
              "  </script>\n",
              "</div>\n",
              "\n",
              "  <div id=\"id_9dcdb54d-bb76-4bc5-932a-95b90b45eb08\">\n",
              "    <style>\n",
              "      .colab-df-generate {\n",
              "        background-color: #E8F0FE;\n",
              "        border: none;\n",
              "        border-radius: 50%;\n",
              "        cursor: pointer;\n",
              "        display: none;\n",
              "        fill: #1967D2;\n",
              "        height: 32px;\n",
              "        padding: 0 0 0 0;\n",
              "        width: 32px;\n",
              "      }\n",
              "\n",
              "      .colab-df-generate:hover {\n",
              "        background-color: #E2EBFA;\n",
              "        box-shadow: 0px 1px 2px rgba(60, 64, 67, 0.3), 0px 1px 3px 1px rgba(60, 64, 67, 0.15);\n",
              "        fill: #174EA6;\n",
              "      }\n",
              "\n",
              "      [theme=dark] .colab-df-generate {\n",
              "        background-color: #3B4455;\n",
              "        fill: #D2E3FC;\n",
              "      }\n",
              "\n",
              "      [theme=dark] .colab-df-generate:hover {\n",
              "        background-color: #434B5C;\n",
              "        box-shadow: 0px 1px 3px 1px rgba(0, 0, 0, 0.15);\n",
              "        filter: drop-shadow(0px 1px 2px rgba(0, 0, 0, 0.3));\n",
              "        fill: #FFFFFF;\n",
              "      }\n",
              "    </style>\n",
              "    <button class=\"colab-df-generate\" onclick=\"generateWithVariable('final')\"\n",
              "            title=\"Generate code using this dataframe.\"\n",
              "            style=\"display:none;\">\n",
              "\n",
              "  <svg xmlns=\"http://www.w3.org/2000/svg\" height=\"24px\"viewBox=\"0 0 24 24\"\n",
              "       width=\"24px\">\n",
              "    <path d=\"M7,19H8.4L18.45,9,17,7.55,7,17.6ZM5,21V16.75L18.45,3.32a2,2,0,0,1,2.83,0l1.4,1.43a1.91,1.91,0,0,1,.58,1.4,1.91,1.91,0,0,1-.58,1.4L9.25,21ZM18.45,9,17,7.55Zm-12,3A5.31,5.31,0,0,0,4.9,8.1,5.31,5.31,0,0,0,1,6.5,5.31,5.31,0,0,0,4.9,4.9,5.31,5.31,0,0,0,6.5,1,5.31,5.31,0,0,0,8.1,4.9,5.31,5.31,0,0,0,12,6.5,5.46,5.46,0,0,0,6.5,12Z\"/>\n",
              "  </svg>\n",
              "    </button>\n",
              "    <script>\n",
              "      (() => {\n",
              "      const buttonEl =\n",
              "        document.querySelector('#id_9dcdb54d-bb76-4bc5-932a-95b90b45eb08 button.colab-df-generate');\n",
              "      buttonEl.style.display =\n",
              "        google.colab.kernel.accessAllowed ? 'block' : 'none';\n",
              "\n",
              "      buttonEl.onclick = () => {\n",
              "        google.colab.notebook.generateWithVariable('final');\n",
              "      }\n",
              "      })();\n",
              "    </script>\n",
              "  </div>\n",
              "\n",
              "    </div>\n",
              "  </div>\n"
            ],
            "application/vnd.google.colaboratory.intrinsic+json": {
              "type": "dataframe",
              "variable_name": "final",
              "summary": "{\n  \"name\": \"final\",\n  \"rows\": 5500,\n  \"fields\": [\n    {\n      \"column\": \"instruction\",\n      \"properties\": {\n        \"dtype\": \"string\",\n        \"num_unique_values\": 5130,\n        \"samples\": [\n          \"i dont know how to sign up to the newsletter\",\n          \"what do i have to do to list ur allowed payment options\",\n          \"I want to see what options for delivery I can choose\"\n        ],\n        \"semantic_type\": \"\",\n        \"description\": \"\"\n      }\n    },\n    {\n      \"column\": \"response\",\n      \"properties\": {\n        \"dtype\": \"string\",\n        \"num_unique_values\": 5500,\n        \"samples\": [\n          \"Unquestionably! I'm here to assist you in exploring the available delivery methods and finding the best option for you. Here are some of the delivery methods we offer:\\n\\n1. Standard Shipping: This method is perfect if you're not in a rush and can wait for your package to arrive within {{Date Range}} business days.\\n2. Expedited Shipping: If you need your package a bit faster, you can choose expedited shipping, which typically delivers within {{Date Range}} business days.\\n3. Same-Day Delivery: For those urgent situations when you need your order right away, we offer same-day delivery to select areas. Please check if this option is available for your location.\\n4. In-Store Pickup: Conveniently collect your order from our store location at your own pace. This option allows you to avoid shipping costs and ensures a faster fulfillment process.\\n\\nI hope this information helps you make an informed decision. If you have any further questions or if there's anything else I can assist you with, please feel free to let me know.\",\n          \"Certainly! To view the early exit penalty, you can refer to the terms and conditions section of your account agreement. It will provide you with detailed information regarding any fees or penalties associated with canceling your account before the agreed-upon term. If you need further assistance, please don't hesitate to let me know.\",\n          \"I've been informed that you are seeking information about canceling your newsletter subscription. We want the subscription experience to be as seamless as possible, whether it's subscribing or unsubscribing. To cancel your newsletter subscription, you can simply click on the \\\"Unsubscribe\\\" link provided at the bottom of any newsletter email you receive. Alternatively, you can reach out to our customer support team with your email address, and they will assist you in canceling your subscription promptly. We value your decision and respect your choice to unsubscribe from our newsletter. If there's anything else I can assist you with, please feel free to let me know.\"\n        ],\n        \"semantic_type\": \"\",\n        \"description\": \"\"\n      }\n    }\n  ]\n}"
            }
          },
          "metadata": {},
          "execution_count": 30
        }
      ]
    },
    {
      "cell_type": "code",
      "source": [
        "for index, row in final.iterrows():\n",
        "    print(row['instruction'])\n",
        "    print(row['response'])\n",
        "    break"
      ],
      "metadata": {
        "colab": {
          "base_uri": "https://localhost:8080/"
        },
        "id": "mc7ZL_OUfl8B",
        "outputId": "52466fce-463d-42c1-95ae-594395fc13f4"
      },
      "execution_count": null,
      "outputs": [
        {
          "output_type": "stream",
          "name": "stdout",
          "text": [
            "question about cancelling order {{Order Number}}\n",
            "I've understood you have a question regarding canceling order {{Order Number}}, and I'm here to provide you with the information you need. Please go ahead and ask your question, and I'll do my best to assist you.\n"
          ]
        }
      ]
    },
    {
      "cell_type": "code",
      "source": [
        "\n",
        "# File path\n",
        "file_path = \"qa_data.txt\"\n",
        "\n",
        "# Open the file in write mode\n",
        "with open(file_path, \"w\") as file:\n",
        "    # Iterate over the data and write each question-answer pair to the file\n",
        "    for index, row in final.iterrows():\n",
        "        file.write(\"Question: {}?\\n\".format(row['instruction']))\n",
        "        file.write(\"Answer: {}?\\n\".format(row['response']))\n",
        "        file.write(\"\\n\")  # Add a blank line between each question-answer pair\n"
      ],
      "metadata": {
        "id": "NI5ZCaDGenoN"
      },
      "execution_count": null,
      "outputs": []
    },
    {
      "cell_type": "code",
      "source": [],
      "metadata": {
        "id": "nuEpHJbdg0XO"
      },
      "execution_count": null,
      "outputs": []
    }
  ]
}